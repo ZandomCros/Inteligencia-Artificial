{
  "nbformat": 4,
  "nbformat_minor": 0,
  "metadata": {
    "colab": {
      "provenance": [],
      "collapsed_sections": []
    },
    "kernelspec": {
      "name": "python3",
      "display_name": "Python 3"
    },
    "language_info": {
      "name": "python"
    }
  },
  "cells": [
    {
      "cell_type": "markdown",
      "source": [
        "A2: Ejercicios en Python \n",
        "\n",
        "> Cristian Alejandro Luna Pineda 1819020 Sabado N1-N3\n"
      ],
      "metadata": {
        "id": "oLKBjhSCqhCo"
      }
    },
    {
      "cell_type": "code",
      "source": [
        "P = input(\"Cuál es tu nombre: \")\n",
        "if P != \"Ana\" and P != \"Juan\" and P != \"Pedro\":\n",
        "  print(\"Hola\", P, \"buenoa días\")"
      ],
      "metadata": {
        "colab": {
          "base_uri": "https://localhost:8080/"
        },
        "id": "5ygYNVs0LsDk",
        "outputId": "e7969741-63e1-4c19-816a-7a331245a311"
      },
      "execution_count": null,
      "outputs": [
        {
          "name": "stdout",
          "output_type": "stream",
          "text": [
            "Cuál es tu nombre: Ana\n"
          ]
        }
      ]
    },
    {
      "cell_type": "code",
      "source": [
        "Num=[0,1,2,3,4,5,6,7,8,9,10]\n",
        "def cambio (lista):\n",
        "  lista.reverse()\n",
        "  for x in range(len(lista)):\n",
        "    print(lista[x])\n",
        "  return lista[0]\n",
        "fin = cambio(Num) \n",
        "print(fin)"
      ],
      "metadata": {
        "colab": {
          "base_uri": "https://localhost:8080/"
        },
        "id": "zdznAVPjNBEz",
        "outputId": "ad87ff18-2d49-4d9b-a5c2-e93171850bbb"
      },
      "execution_count": null,
      "outputs": [
        {
          "output_type": "stream",
          "name": "stdout",
          "text": [
            "10\n",
            "9\n",
            "8\n",
            "7\n",
            "6\n",
            "5\n",
            "4\n",
            "3\n",
            "2\n",
            "1\n",
            "0\n",
            "10\n"
          ]
        }
      ]
    },
    {
      "cell_type": "code",
      "source": [
        "def prgram():\n",
        "  print(\"***********\")\n",
        "  for x in [\"Hola\", \"a\", \"todos\", \"esto\", \"es\", \"un\", \"marco\"]:\n",
        "     print(\"* \", x, \" *\")\n",
        "  print(\"***********\")\n",
        "prgram()"
      ],
      "metadata": {
        "colab": {
          "base_uri": "https://localhost:8080/"
        },
        "id": "jayzN1DkUx8k",
        "outputId": "dca78cfd-fee7-4db8-f6f3-136fab0955b2"
      },
      "execution_count": null,
      "outputs": [
        {
          "output_type": "stream",
          "name": "stdout",
          "text": [
            "***********\n",
            "*  Hola  *\n",
            "*  a  *\n",
            "*  todos  *\n",
            "*  esto  *\n",
            "*  es  *\n",
            "*  un  *\n",
            "*  marco  *\n",
            "***********\n"
          ]
        }
      ]
    }
  ]
}