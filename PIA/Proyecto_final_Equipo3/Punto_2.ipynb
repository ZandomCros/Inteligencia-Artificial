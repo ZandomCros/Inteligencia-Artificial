{
  "cells": [
    {
      "cell_type": "markdown",
      "metadata": {
        "id": "bZoRVfXICuDN"
      },
      "source": [
        "Alec Daniel Jurado Luna 1734696          \n",
        "Cristian Alejandro Luna Pineda 1819020         \n",
        "Diego Alejandro Montoya Ortega 1748924         \n",
        "Brandon Gerardo Coria Peña 1911618      \n",
        "Miguel Angel Solis Corpus 1908279       \n",
        "Ivan Patricio Lomas Castillo 1847798      \n",
        "Rodolfo Atilano Santos 1856728\n",
        "\n"
      ]
    },
    {
      "cell_type": "code",
      "execution_count": 15,
      "metadata": {
        "id": "0eCVgqy70nbS"
      },
      "outputs": [],
      "source": [
        "import cv2\n",
        "import glob\n",
        "import matplotlib.pyplot as plt\n",
        "\n",
        "import tensorflow as tf\n",
        "from tensorflow import keras\n",
        "\n",
        "import numpy as np\n",
        "import matplotlib.pyplot as plt\n",
        "from sklearn.model_selection import train_test_split"
      ]
    },
    {
      "cell_type": "code",
      "source": [
        "mnist = keras.datasets.mnist\n",
        "\n",
        "(x_train, y_train), (x_test, y_test) = mnist.load_data()"
      ],
      "metadata": {
        "id": "XO-WQfhC0Vje",
        "colab": {
          "base_uri": "https://localhost:8080/"
        },
        "outputId": "91c30e30-d6b7-4181-939f-01f4b6472810"
      },
      "execution_count": 2,
      "outputs": [
        {
          "output_type": "stream",
          "name": "stdout",
          "text": [
            "Downloading data from https://storage.googleapis.com/tensorflow/tf-keras-datasets/mnist.npz\n",
            "11490434/11490434 [==============================] - 0s 0us/step\n"
          ]
        }
      ]
    },
    {
      "cell_type": "code",
      "source": [
        "clas_names = [\"0\", \"1\", \"2\", \"3\", \"4\",\n",
        "              \"5\", \"6\", \"7\", \"8\", \"9\"]"
      ],
      "metadata": {
        "id": "WPYNCUfM4Zy2"
      },
      "execution_count": 3,
      "outputs": []
    },
    {
      "cell_type": "code",
      "execution_count": 4,
      "metadata": {
        "id": "MXPfdtDtSCeN"
      },
      "outputs": [],
      "source": [
        "x_train = x_train / 255.\n",
        "x_test = x_test / 255."
      ]
    },
    {
      "cell_type": "code",
      "execution_count": 5,
      "metadata": {
        "id": "bRYxW6H-mX1P",
        "colab": {
          "base_uri": "https://localhost:8080/"
        },
        "outputId": "df3b7b50-d6ee-42e1-f36b-4422cb64f3d5"
      },
      "outputs": [
        {
          "output_type": "execute_result",
          "data": {
            "text/plain": [
              "(60000, 28, 28)"
            ]
          },
          "metadata": {},
          "execution_count": 5
        }
      ],
      "source": [
        "x_train.shape"
      ]
    },
    {
      "cell_type": "code",
      "execution_count": 6,
      "metadata": {
        "colab": {
          "base_uri": "https://localhost:8080/",
          "height": 589
        },
        "id": "tPkATEqsUUhf",
        "outputId": "2ce6523c-a9c7-4ac0-b556-92fb622cdf03"
      },
      "outputs": [
        {
          "output_type": "display_data",
          "data": {
            "text/plain": [
              "<Figure size 720x720 with 25 Axes>"
            ],
            "image/png": "[encoded data removed]"
          },
          "metadata": {}
        }
      ],
      "source": [
        "plt.figure(figsize=(10,10))\n",
        "for i in range(25):\n",
        "    plt.subplot(5,5,i+1)\n",
        "    plt.xticks([])\n",
        "    plt.yticks([])\n",
        "    plt.grid(False)\n",
        "    plt.imshow(x_train[i], cmap=plt.cm.binary)\n",
        "    plt.xlabel([y_train[i]])\n",
        "plt.show()"
      ]
    },
    {
      "cell_type": "code",
      "execution_count": 7,
      "metadata": {
        "id": "q6Rq6_VmB3vv"
      },
      "outputs": [],
      "source": [
        "model = keras.Sequential([\n",
        "    keras.layers.Flatten(input_shape=(28, 28)),\n",
        "    keras.layers.Dense(128, activation='relu'),\n",
        "    keras.layers.Dense(10, activation='softmax')\n",
        "])"
      ]
    },
    {
      "cell_type": "code",
      "execution_count": 8,
      "metadata": {
        "id": "VSkFjJVfB7FN"
      },
      "outputs": [],
      "source": [
        "model.compile(optimizer='adam',\n",
        "              loss='sparse_categorical_crossentropy',\n",
        "              metrics=['accuracy'])"
      ]
    },
    {
      "cell_type": "code",
      "execution_count": 9,
      "metadata": {
        "id": "Z0mqmwC1Sl0i",
        "colab": {
          "base_uri": "https://localhost:8080/"
        },
        "outputId": "06790779-b3eb-4c68-ae63-20320fb3a637"
      },
      "outputs": [
        {
          "output_type": "stream",
          "name": "stdout",
          "text": [
            "Epoch 1/10\n",
            "1875/1875 [==============================] - 7s 3ms/step - loss: 0.2593 - accuracy: 0.9268 - val_loss: 0.1360 - val_accuracy: 0.9586\n",
            "Epoch 2/10\n",
            "1875/1875 [==============================] - 6s 3ms/step - loss: 0.1135 - accuracy: 0.9667 - val_loss: 0.0957 - val_accuracy: 0.9705\n",
            "Epoch 3/10\n",
            "1875/1875 [==============================] - 6s 3ms/step - loss: 0.0786 - accuracy: 0.9770 - val_loss: 0.0834 - val_accuracy: 0.9741\n",
            "Epoch 4/10\n",
            "1875/1875 [==============================] - 6s 3ms/step - loss: 0.0595 - accuracy: 0.9815 - val_loss: 0.0750 - val_accuracy: 0.9768\n",
            "Epoch 5/10\n",
            "1875/1875 [==============================] - 6s 3ms/step - loss: 0.0457 - accuracy: 0.9857 - val_loss: 0.0785 - val_accuracy: 0.9754\n",
            "Epoch 6/10\n",
            "1875/1875 [==============================] - 6s 3ms/step - loss: 0.0361 - accuracy: 0.9890 - val_loss: 0.0764 - val_accuracy: 0.9765\n",
            "Epoch 7/10\n",
            "1875/1875 [==============================] - 6s 3ms/step - loss: 0.0291 - accuracy: 0.9911 - val_loss: 0.0737 - val_accuracy: 0.9780\n",
            "Epoch 8/10\n",
            "1875/1875 [==============================] - 6s 3ms/step - loss: 0.0236 - accuracy: 0.9926 - val_loss: 0.0744 - val_accuracy: 0.9787\n",
            "Epoch 9/10\n",
            "1875/1875 [==============================] - 6s 3ms/step - loss: 0.0205 - accuracy: 0.9937 - val_loss: 0.0751 - val_accuracy: 0.9779\n",
            "Epoch 10/10\n",
            "1875/1875 [==============================] - 6s 3ms/step - loss: 0.0156 - accuracy: 0.9952 - val_loss: 0.0832 - val_accuracy: 0.9778\n"
          ]
        }
      ],
      "source": [
        "history = model.fit(x_train, y_train, epochs=10, validation_data=(x_test, y_test))"
      ]
    },
    {
      "cell_type": "code",
      "source": [
        "plt.plot(history.history['accuracy'], label='accuracy')\n",
        "plt.plot(history.history['val_accuracy'], label = 'val_accuracy')\n",
        "plt.xlabel('Epoch')\n",
        "plt.ylabel('Accuracy')\n",
        "plt.ylim([0.5, 1.2])\n",
        "plt.legend(loc='lower right')\n",
        "\n",
        "test_loss, test_acc = model.evaluate(x_test,  y_test, verbose=2)"
      ],
      "metadata": {
        "colab": {
          "base_uri": "https://localhost:8080/",
          "height": 300
        },
        "id": "EVPpneTc3cAu",
        "outputId": "2ce859e5-dcb2-421e-9f45-f5a71fb47bff"
      },
      "execution_count": 10,
      "outputs": [
        {
          "output_type": "stream",
          "name": "stdout",
          "text": [
            "313/313 - 1s - loss: 0.0832 - accuracy: 0.9778 - 821ms/epoch - 3ms/step\n"
          ]
        },
        {
          "output_type": "display_data",
          "data": {
            "text/plain": [
              "<Figure size 432x288 with 1 Axes>"
            ],
            "image/png": "[encoded data removed]"
          },
          "metadata": {
            "needs_background": "light"
          }
        }
      ]
    },
    {
      "cell_type": "code",
      "execution_count": 11,
      "metadata": {
        "colab": {
          "base_uri": "https://localhost:8080/"
        },
        "id": "LhXSkwi0S81a",
        "outputId": "f966ed9e-c172-478d-bb4c-3a1e7eaf5591"
      },
      "outputs": [
        {
          "output_type": "stream",
          "name": "stdout",
          "text": [
            "313/313 - 0s - loss: 0.0832 - accuracy: 0.9778 - 498ms/epoch - 2ms/step\n",
            "\n",
            "Test accuracy: 0.9778000116348267\n"
          ]
        }
      ],
      "source": [
        "test_loss, test_acc = model.evaluate(x_test,  y_test, verbose=2)\n",
        "\n",
        "print('\\nTest accuracy:', test_acc)"
      ]
    },
    {
      "cell_type": "code",
      "source": [
        "imagenes_full=[]\n",
        "etiquetas_full =[]\n",
        "num = 0"
      ],
      "metadata": {
        "id": "NauAg0iAe3vM"
      },
      "execution_count": 31,
      "outputs": []
    },
    {
      "cell_type": "code",
      "source": [
        "for m in \"Mecatronic\":\n",
        "  path = glob.glob(\"/content/num2/\" + str(num) + \"/*.jpeg\")\n",
        "  for n in path:\n",
        "    test_image = cv2.imread(n, cv2.IMREAD_GRAYSCALE)\n",
        "  \n",
        "    # Formato de imagen\n",
        "    img_resized = cv2.resize(test_image, (28, 28), interpolation=cv2.INTER_LINEAR)\n",
        "    img_resized = cv2.bitwise_not(img_resized)\n",
        "\n",
        "    #Guardar imagenes\n",
        "    imagenes_full.append(img_resized)\n",
        "    etiquetas_full.append(num)\n",
        "  num +=1"
      ],
      "metadata": {
        "id": "sRV6MYETey31"
      },
      "execution_count": 58,
      "outputs": []
    },
    {
      "cell_type": "code",
      "source": [
        "len(imagenes_full)"
      ],
      "metadata": {
        "colab": {
          "base_uri": "https://localhost:8080/"
        },
        "id": "QmHOTQCRlbN6",
        "outputId": "d5f839de-e813-4568-9dc9-021f99fb3ba7"
      },
      "execution_count": 62,
      "outputs": [
        {
          "output_type": "execute_result",
          "data": {
            "text/plain": [
              "10"
            ]
          },
          "metadata": {},
          "execution_count": 62
        }
      ]
    },
    {
      "cell_type": "code",
      "source": [
        "len(etiquetas_full)"
      ],
      "metadata": {
        "colab": {
          "base_uri": "https://localhost:8080/"
        },
        "id": "zAOfN_dilgPX",
        "outputId": "5ab7e7eb-ef53-40cc-9069-7df71c007398"
      },
      "execution_count": 63,
      "outputs": [
        {
          "output_type": "execute_result",
          "data": {
            "text/plain": [
              "10"
            ]
          },
          "metadata": {},
          "execution_count": 63
        }
      ]
    },
    {
      "cell_type": "code",
      "source": [
        "y = np.array(etiquetas_full)\n",
        "X = np.array(imagenes_full, dtype=np.uint8)"
      ],
      "metadata": {
        "id": "mgxOrk9vfVTk"
      },
      "execution_count": 64,
      "outputs": []
    },
    {
      "cell_type": "code",
      "source": [
        "train_X,test_X,train_Y,test_Y = train_test_split(X,y,test_size=0.9)"
      ],
      "metadata": {
        "id": "KV0nPpwwfY-Q"
      },
      "execution_count": 69,
      "outputs": []
    },
    {
      "cell_type": "code",
      "source": [
        "test_X.shape"
      ],
      "metadata": {
        "colab": {
          "base_uri": "https://localhost:8080/"
        },
        "id": "BuRj788ok_c1",
        "outputId": "fb27a252-f82c-4ef8-d0ed-2edc891b1fde"
      },
      "execution_count": 70,
      "outputs": [
        {
          "output_type": "execute_result",
          "data": {
            "text/plain": [
              "(9, 28, 28)"
            ]
          },
          "metadata": {},
          "execution_count": 70
        }
      ]
    },
    {
      "cell_type": "code",
      "execution_count": 71,
      "metadata": {
        "colab": {
          "base_uri": "https://localhost:8080/"
        },
        "id": "4jDRynfZTM0g",
        "outputId": "ec3e3e00-e3fa-4016-cc90-a1805ed778c2"
      },
      "outputs": [
        {
          "output_type": "stream",
          "name": "stdout",
          "text": [
            "1/1 [==============================] - 0s 17ms/step\n"
          ]
        }
      ],
      "source": [
        "predictions = model.predict(test_X)"
      ]
    },
    {
      "cell_type": "markdown",
      "metadata": {
        "id": "5IX7_HsWgJxI"
      },
      "source": [
        "# Prediccion 1\n"
      ]
    },
    {
      "cell_type": "code",
      "execution_count": 72,
      "metadata": {
        "colab": {
          "base_uri": "https://localhost:8080/"
        },
        "id": "co21accfTUHK",
        "outputId": "305e623d-f12e-40c9-f219-9ebc00854580"
      },
      "outputs": [
        {
          "output_type": "execute_result",
          "data": {
            "text/plain": [
              "array([0.        , 0.18664342, 0.        , 0.        , 0.8133565 ,\n",
              "       0.        , 0.        , 0.        , 0.        , 0.        ],\n",
              "      dtype=float32)"
            ]
          },
          "metadata": {},
          "execution_count": 72
        }
      ],
      "source": [
        "predictions[0]"
      ]
    },
    {
      "cell_type": "code",
      "execution_count": 73,
      "metadata": {
        "colab": {
          "base_uri": "https://localhost:8080/"
        },
        "id": "X8l9dIYATcQJ",
        "outputId": "2c4a83ee-ec6c-4fa1-f3cb-bcbaf1186ea0"
      },
      "outputs": [
        {
          "output_type": "execute_result",
          "data": {
            "text/plain": [
              "4"
            ]
          },
          "metadata": {},
          "execution_count": 73
        }
      ],
      "source": [
        "np.argmax(predictions[0])"
      ]
    },
    {
      "cell_type": "code",
      "execution_count": 75,
      "metadata": {
        "colab": {
          "base_uri": "https://localhost:8080/"
        },
        "id": "vXwSVt2STnGY",
        "outputId": "6ecfed0b-0ca7-43ed-f582-39a8cbd8d882"
      },
      "outputs": [
        {
          "output_type": "execute_result",
          "data": {
            "text/plain": [
              "1"
            ]
          },
          "metadata": {},
          "execution_count": 75
        }
      ],
      "source": [
        "test_Y[0]"
      ]
    },
    {
      "cell_type": "code",
      "source": [
        "plt.imshow(test_X[0])"
      ],
      "metadata": {
        "colab": {
          "base_uri": "https://localhost:8080/",
          "height": 282
        },
        "id": "z_658ktMpOhE",
        "outputId": "f4b54eb5-874f-400d-f2e3-537f05bd8829"
      },
      "execution_count": 82,
      "outputs": [
        {
          "output_type": "execute_result",
          "data": {
            "text/plain": [
              "<matplotlib.image.AxesImage at 0x7ff750e28090>"
            ]
          },
          "metadata": {},
          "execution_count": 82
        },
        {
          "output_type": "display_data",
          "data": {
            "text/plain": [
              "<Figure size 432x288 with 1 Axes>"
            ],
            "image/png": "[encoded data removed]"
          },
          "metadata": {
            "needs_background": "light"
          }
        }
      ]
    },
    {
      "cell_type": "markdown",
      "metadata": {
        "id": "cRtpZ4YegSdr"
      },
      "source": [
        "# Prediccion 2"
      ]
    },
    {
      "cell_type": "code",
      "execution_count": 76,
      "metadata": {
        "colab": {
          "base_uri": "https://localhost:8080/"
        },
        "id": "i17bE6chgWer",
        "outputId": "6a5bd45c-f285-4bd8-ccba-c1907af2963d"
      },
      "outputs": [
        {
          "output_type": "execute_result",
          "data": {
            "text/plain": [
              "array([0., 0., 0., 0., 0., 0., 0., 1., 0., 0.], dtype=float32)"
            ]
          },
          "metadata": {},
          "execution_count": 76
        }
      ],
      "source": [
        "predictions[-1]"
      ]
    },
    {
      "cell_type": "code",
      "execution_count": 78,
      "metadata": {
        "colab": {
          "base_uri": "https://localhost:8080/"
        },
        "id": "M7XQqyH0gYyQ",
        "outputId": "35dddae2-ecb3-472b-b78f-a476bf71d2eb"
      },
      "outputs": [
        {
          "output_type": "execute_result",
          "data": {
            "text/plain": [
              "7"
            ]
          },
          "metadata": {},
          "execution_count": 78
        }
      ],
      "source": [
        "np.argmax(predictions[-1])"
      ]
    },
    {
      "cell_type": "code",
      "execution_count": 80,
      "metadata": {
        "colab": {
          "base_uri": "https://localhost:8080/"
        },
        "id": "tuPKojATgbXn",
        "outputId": "f0560dac-84c4-4aea-a3f6-4b05f893cd9a"
      },
      "outputs": [
        {
          "output_type": "execute_result",
          "data": {
            "text/plain": [
              "5"
            ]
          },
          "metadata": {},
          "execution_count": 80
        }
      ],
      "source": [
        "test_Y[-1]"
      ]
    },
    {
      "cell_type": "code",
      "source": [
        "plt.imshow(test_X[-1])"
      ],
      "metadata": {
        "colab": {
          "base_uri": "https://localhost:8080/",
          "height": 282
        },
        "id": "BTwkD-Scpj4i",
        "outputId": "e1f1bda6-bc7f-4589-cdf1-9eb9c0af8951"
      },
      "execution_count": 84,
      "outputs": [
        {
          "output_type": "execute_result",
          "data": {
            "text/plain": [
              "<matplotlib.image.AxesImage at 0x7ff750d63d90>"
            ]
          },
          "metadata": {},
          "execution_count": 84
        },
        {
          "output_type": "display_data",
          "data": {
            "text/plain": [
              "<Figure size 432x288 with 1 Axes>"
            ],
            "image/png": "[encoded data removed]"
          },
          "metadata": {
            "needs_background": "light"
          }
        }
      ]
    },
    {
      "cell_type": "markdown",
      "metadata": {
        "id": "ENYg8tPhggs1"
      },
      "source": [
        "# Prediccion 3"
      ]
    },
    {
      "cell_type": "code",
      "execution_count": 85,
      "metadata": {
        "colab": {
          "base_uri": "https://localhost:8080/"
        },
        "id": "5I22SwozgtSN",
        "outputId": "6213d3bf-e032-46a6-86a4-0e7635538ce7"
      },
      "outputs": [
        {
          "output_type": "execute_result",
          "data": {
            "text/plain": [
              "array([0.        , 0.        , 0.        , 0.        , 0.        ,\n",
              "       0.        , 0.        , 0.        , 0.        , 0.99999994],\n",
              "      dtype=float32)"
            ]
          },
          "metadata": {},
          "execution_count": 85
        }
      ],
      "source": [
        "predictions[5]"
      ]
    },
    {
      "cell_type": "code",
      "execution_count": 86,
      "metadata": {
        "colab": {
          "base_uri": "https://localhost:8080/"
        },
        "id": "stxaQgMCgzFo",
        "outputId": "83ce26a0-6ee7-493d-ef97-a9e5df775345"
      },
      "outputs": [
        {
          "output_type": "execute_result",
          "data": {
            "text/plain": [
              "9"
            ]
          },
          "metadata": {},
          "execution_count": 86
        }
      ],
      "source": [
        "np.argmax(predictions[5])"
      ]
    },
    {
      "cell_type": "code",
      "execution_count": 88,
      "metadata": {
        "colab": {
          "base_uri": "https://localhost:8080/"
        },
        "id": "-lKKPsX4g04I",
        "outputId": "15ff1b79-9458-4233-8c36-a738bf54957e"
      },
      "outputs": [
        {
          "output_type": "execute_result",
          "data": {
            "text/plain": [
              "4"
            ]
          },
          "metadata": {},
          "execution_count": 88
        }
      ],
      "source": [
        "test_Y[5]"
      ]
    },
    {
      "cell_type": "code",
      "source": [
        "plt.imshow(test_X[5])"
      ],
      "metadata": {
        "colab": {
          "base_uri": "https://localhost:8080/",
          "height": 282
        },
        "id": "i0ffTTO_pqSb",
        "outputId": "fe4ba2c7-315c-4255-a381-7dca18928d0e"
      },
      "execution_count": 89,
      "outputs": [
        {
          "output_type": "execute_result",
          "data": {
            "text/plain": [
              "<matplotlib.image.AxesImage at 0x7ff750d3ce10>"
            ]
          },
          "metadata": {},
          "execution_count": 89
        },
        {
          "output_type": "display_data",
          "data": {
            "text/plain": [
              "<Figure size 432x288 with 1 Axes>"
            ],
            "image/png": "[encoded data removed]"
          },
          "metadata": {
            "needs_background": "light"
          }
        }
      ]
    }
  ],
  "metadata": {
    "colab": {
      "collapsed_sections": [],
      "provenance": []
    },
    "kernelspec": {
      "display_name": "Python 3",
      "name": "python3"
    },
    "language_info": {
      "name": "python"
    }
  },
  "nbformat": 4,
  "nbformat_minor": 0
}