{
  "nbformat": 4,
  "nbformat_minor": 0,
  "metadata": {
    "colab": {
      "provenance": [],
      "collapsed_sections": []
    },
    "kernelspec": {
      "name": "python3",
      "display_name": "Python 3"
    },
    "language_info": {
      "name": "python"
    }
  },
  "cells": [
    {
      "cell_type": "markdown",
      "source": [
        "Alec Daniel Jurado Luna 1734696          \n",
        "Cristian Alejandro Luna Pineda 1819020         \n",
        "Diego Alejandro Montoya Ortega 1748924         \n",
        "Brandon Gerardo Coria Peña 1911618      \n",
        "Miguel Angel Solis Corpus 1908279       \n",
        "Ivan Patricio Lomas Castillo 1847798      \n",
        "Rodolfo Atilano Santos 1856728\n",
        "\n"
      ],
      "metadata": {
        "id": "bZoRVfXICuDN"
      }
    },
    {
      "cell_type": "code",
      "execution_count": 1,
      "metadata": {
        "id": "0eCVgqy70nbS"
      },
      "outputs": [],
      "source": [
        "import cv2\n",
        "import glob\n",
        "import matplotlib.pyplot as plt\n",
        "\n",
        "import tensorflow as tf\n",
        "from tensorflow import keras\n",
        "\n",
        "import numpy as np\n",
        "import matplotlib.pyplot as plt\n",
        "from sklearn.model_selection import train_test_split"
      ]
    },
    {
      "cell_type": "code",
      "source": [
        "imagenes_full=[]\n",
        "etiquetas_full =[]\n",
        "num = 0"
      ],
      "metadata": {
        "id": "8NOqRQqAsk7_"
      },
      "execution_count": 2,
      "outputs": []
    },
    {
      "cell_type": "code",
      "source": [
        "for m in \"Mecatronic\":\n",
        "  path = glob.glob(\"/content/num2/\" + str(num) + \"/*.jpeg\")\n",
        "  for n in path:\n",
        "    test_image = cv2.imread(n, cv2.IMREAD_GRAYSCALE)\n",
        "  \n",
        "    # Formato de imagen\n",
        "    img_resized = cv2.resize(test_image, (28, 28), interpolation=cv2.INTER_LINEAR)\n",
        "    img_resized = cv2.bitwise_not(img_resized)\n",
        "\n",
        "    #Guardar imagenes\n",
        "    imagenes_full.append(img_resized)\n",
        "    etiquetas_full.append(num)\n",
        "  num +=1"
      ],
      "metadata": {
        "id": "XNQ05Lkm3YxP"
      },
      "execution_count": 3,
      "outputs": []
    },
    {
      "cell_type": "code",
      "source": [
        "clas_names = [\"0\", \"1\", \"2\", \"3\", \"4\",\n",
        "              \"5\", \"6\", \"7\", \"8\", \"9\"]"
      ],
      "metadata": {
        "id": "ChGwPnGhhnmr"
      },
      "execution_count": 4,
      "outputs": []
    },
    {
      "cell_type": "code",
      "source": [
        "gde = len(imagenes_full)\n",
        "plt.imshow(imagenes_full[139], cmap='gray')\n",
        "print(gde)\n",
        "plt.xlabel(etiquetas_full[139])"
      ],
      "metadata": {
        "colab": {
          "base_uri": "https://localhost:8080/",
          "height": 314
        },
        "id": "eROWe9rw1WTq",
        "outputId": "b94b37aa-863c-4f51-8649-97335558a671"
      },
      "execution_count": 5,
      "outputs": [
        {
          "output_type": "stream",
          "name": "stdout",
          "text": [
            "700\n"
          ]
        },
        {
          "output_type": "execute_result",
          "data": {
            "text/plain": [
              "Text(0.5, 0, '1')"
            ]
          },
          "metadata": {},
          "execution_count": 5
        },
        {
          "output_type": "display_data",
          "data": {
            "text/plain": [
              "<Figure size 432x288 with 1 Axes>"
            ],
            "image/png": "[encoded data removed]"
          },
          "metadata": {
            "needs_background": "light"
          }
        }
      ]
    },
    {
      "cell_type": "code",
      "source": [
        "y = np.array(etiquetas_full)\n",
        "X = np.array(imagenes_full, dtype=np.uint8)"
      ],
      "metadata": {
        "id": "hpQ8Z3MRP2GY"
      },
      "execution_count": 6,
      "outputs": []
    },
    {
      "cell_type": "code",
      "source": [
        "train_X,test_X,train_Y,test_Y = train_test_split(X,y,test_size=0.2)\n",
        "print('Training data shape : ', train_X.shape, train_Y.shape)\n",
        "print('Testing data shape : ', test_X.shape, test_Y.shape)"
      ],
      "metadata": {
        "colab": {
          "base_uri": "https://localhost:8080/"
        },
        "id": "ZJ8mx1PmRkUR",
        "outputId": "bf7aad8f-d9cc-43e8-e9a7-d6a29ddd6bc0"
      },
      "execution_count": 9,
      "outputs": [
        {
          "output_type": "stream",
          "name": "stdout",
          "text": [
            "Training data shape :  (560, 28, 28) (560,)\n",
            "Testing data shape :  (140, 28, 28) (140,)\n"
          ]
        }
      ]
    },
    {
      "cell_type": "code",
      "source": [
        "train_X = train_X / 255.\n",
        "test_X = test_X / 255."
      ],
      "metadata": {
        "id": "MXPfdtDtSCeN"
      },
      "execution_count": 10,
      "outputs": []
    },
    {
      "cell_type": "code",
      "source": [
        "plt.figure(figsize=(10,10))\n",
        "for i in range(25):\n",
        "    plt.subplot(5,5,i+1)\n",
        "    plt.xticks([])\n",
        "    plt.yticks([])\n",
        "    plt.grid(False)\n",
        "    plt.imshow(train_X[i], cmap=plt.cm.binary)\n",
        "    plt.xlabel([train_Y[i]])\n",
        "plt.show()"
      ],
      "metadata": {
        "colab": {
          "base_uri": "https://localhost:8080/",
          "height": 589
        },
        "id": "tPkATEqsUUhf",
        "outputId": "5130be7e-694f-4676-cc2e-f1a8462d2fe9"
      },
      "execution_count": 11,
      "outputs": [
        {
          "output_type": "display_data",
          "data": {
            "text/plain": [
              "<Figure size 720x720 with 25 Axes>"
            ],
            "image/png": "[encoded data removed]"
          },
          "metadata": {}
        }
      ]
    },
    {
      "cell_type": "code",
      "source": [
        "model = keras.Sequential([\n",
        "    keras.layers.Flatten(input_shape=(28, 28)),\n",
        "    keras.layers.Dense(128, activation='relu'),\n",
        "    keras.layers.Dense(10, activation='softmax')\n",
        "])"
      ],
      "metadata": {
        "id": "q6Rq6_VmB3vv"
      },
      "execution_count": 12,
      "outputs": []
    },
    {
      "cell_type": "code",
      "source": [
        "model.compile(optimizer='adam',\n",
        "              loss='sparse_categorical_crossentropy',\n",
        "              metrics=['accuracy'])"
      ],
      "metadata": {
        "id": "VSkFjJVfB7FN"
      },
      "execution_count": 13,
      "outputs": []
    },
    {
      "cell_type": "code",
      "source": [
        "history = model.fit(train_X, train_Y, epochs=10, validation_data=(test_X, test_Y))"
      ],
      "metadata": {
        "colab": {
          "base_uri": "https://localhost:8080/"
        },
        "id": "Z0mqmwC1Sl0i",
        "outputId": "92bcddc2-4ec5-46f0-e9c1-65dc8c7120be"
      },
      "execution_count": 14,
      "outputs": [
        {
          "output_type": "stream",
          "name": "stdout",
          "text": [
            "Epoch 1/10\n",
            "18/18 [==============================] - 1s 16ms/step - loss: 2.1641 - accuracy: 0.3268 - val_loss: 1.9230 - val_accuracy: 0.7071\n",
            "Epoch 2/10\n",
            "18/18 [==============================] - 0s 6ms/step - loss: 1.7049 - accuracy: 0.8143 - val_loss: 1.5296 - val_accuracy: 0.8071\n",
            "Epoch 3/10\n",
            "18/18 [==============================] - 0s 5ms/step - loss: 1.2616 - accuracy: 0.8821 - val_loss: 1.1397 - val_accuracy: 0.8500\n",
            "Epoch 4/10\n",
            "18/18 [==============================] - 0s 6ms/step - loss: 0.8791 - accuracy: 0.8929 - val_loss: 0.8400 - val_accuracy: 0.8500\n",
            "Epoch 5/10\n",
            "18/18 [==============================] - 0s 6ms/step - loss: 0.6167 - accuracy: 0.9143 - val_loss: 0.6502 - val_accuracy: 0.8857\n",
            "Epoch 6/10\n",
            "18/18 [==============================] - 0s 6ms/step - loss: 0.4565 - accuracy: 0.9500 - val_loss: 0.5346 - val_accuracy: 0.8929\n",
            "Epoch 7/10\n",
            "18/18 [==============================] - 0s 6ms/step - loss: 0.3530 - accuracy: 0.9554 - val_loss: 0.4741 - val_accuracy: 0.8857\n",
            "Epoch 8/10\n",
            "18/18 [==============================] - 0s 7ms/step - loss: 0.2825 - accuracy: 0.9661 - val_loss: 0.4287 - val_accuracy: 0.8857\n",
            "Epoch 9/10\n",
            "18/18 [==============================] - 0s 6ms/step - loss: 0.2329 - accuracy: 0.9750 - val_loss: 0.3988 - val_accuracy: 0.9071\n",
            "Epoch 10/10\n",
            "18/18 [==============================] - 0s 6ms/step - loss: 0.1972 - accuracy: 0.9804 - val_loss: 0.3814 - val_accuracy: 0.8929\n"
          ]
        }
      ]
    },
    {
      "cell_type": "code",
      "source": [
        "test_loss, test_acc = model.evaluate(test_X,  test_Y, verbose=2)\n",
        "\n",
        "print('\\nTest accuracy:', test_acc)"
      ],
      "metadata": {
        "colab": {
          "base_uri": "https://localhost:8080/"
        },
        "id": "LhXSkwi0S81a",
        "outputId": "5c27a66b-9da4-47eb-9998-b8cd8e1a243f"
      },
      "execution_count": 15,
      "outputs": [
        {
          "output_type": "stream",
          "name": "stdout",
          "text": [
            "5/5 - 0s - loss: 0.3814 - accuracy: 0.8929 - 24ms/epoch - 5ms/step\n",
            "\n",
            "Test accuracy: 0.8928571343421936\n"
          ]
        }
      ]
    },
    {
      "cell_type": "code",
      "source": [
        "plt.plot(history.history['accuracy'], label='accuracy')\n",
        "plt.plot(history.history['val_accuracy'], label = 'val_accuracy')\n",
        "plt.xlabel('Epoch')\n",
        "plt.ylabel('Accuracy')\n",
        "plt.ylim([0.1, 1])\n",
        "plt.legend(loc='lower right')\n",
        "\n",
        "test_loss, test_acc = model.evaluate(test_X,  test_Y, verbose=2)"
      ],
      "metadata": {
        "colab": {
          "base_uri": "https://localhost:8080/",
          "height": 300
        },
        "id": "7i-AjABSceET",
        "outputId": "a5218fc1-7a5a-4c2b-a586-67714556d53d"
      },
      "execution_count": 16,
      "outputs": [
        {
          "output_type": "stream",
          "name": "stdout",
          "text": [
            "5/5 - 0s - loss: 0.3814 - accuracy: 0.8929 - 28ms/epoch - 6ms/step\n"
          ]
        },
        {
          "output_type": "display_data",
          "data": {
            "text/plain": [
              "<Figure size 432x288 with 1 Axes>"
            ],
            "image/png": "[encoded data removed]"
          },
          "metadata": {
            "needs_background": "light"
          }
        }
      ]
    },
    {
      "cell_type": "code",
      "source": [
        "predictions = model.predict(test_X)"
      ],
      "metadata": {
        "colab": {
          "base_uri": "https://localhost:8080/"
        },
        "id": "4jDRynfZTM0g",
        "outputId": "2ca44d8b-76cd-4788-c8cf-f78a178d6f73"
      },
      "execution_count": 17,
      "outputs": [
        {
          "output_type": "stream",
          "name": "stdout",
          "text": [
            "5/5 [==============================] - 0s 3ms/step\n"
          ]
        }
      ]
    },
    {
      "cell_type": "markdown",
      "source": [
        "# Prediccion 1\n"
      ],
      "metadata": {
        "id": "5IX7_HsWgJxI"
      }
    },
    {
      "cell_type": "code",
      "source": [
        "predictions[5]"
      ],
      "metadata": {
        "colab": {
          "base_uri": "https://localhost:8080/"
        },
        "id": "co21accfTUHK",
        "outputId": "3732430d-5d2a-4dd0-a8ed-9515170ad525"
      },
      "execution_count": 18,
      "outputs": [
        {
          "output_type": "execute_result",
          "data": {
            "text/plain": [
              "array([8.5889397e-04, 2.1080687e-03, 3.5055175e-03, 2.6412928e-03,\n",
              "       2.9585704e-03, 4.7489572e-02, 5.3611323e-03, 2.6375559e-04,\n",
              "       9.3089294e-01, 3.9201342e-03], dtype=float32)"
            ]
          },
          "metadata": {},
          "execution_count": 18
        }
      ]
    },
    {
      "cell_type": "code",
      "source": [
        "np.argmax(predictions[5])"
      ],
      "metadata": {
        "colab": {
          "base_uri": "https://localhost:8080/"
        },
        "id": "X8l9dIYATcQJ",
        "outputId": "045f2035-751f-45e8-f4cb-51a3b912da6c"
      },
      "execution_count": 19,
      "outputs": [
        {
          "output_type": "execute_result",
          "data": {
            "text/plain": [
              "8"
            ]
          },
          "metadata": {},
          "execution_count": 19
        }
      ]
    },
    {
      "cell_type": "code",
      "source": [
        "test_Y[5]"
      ],
      "metadata": {
        "colab": {
          "base_uri": "https://localhost:8080/"
        },
        "id": "vXwSVt2STnGY",
        "outputId": "d56f08f6-da2f-4252-a5a3-b3e2e4db365f"
      },
      "execution_count": 20,
      "outputs": [
        {
          "output_type": "execute_result",
          "data": {
            "text/plain": [
              "8"
            ]
          },
          "metadata": {},
          "execution_count": 20
        }
      ]
    },
    {
      "cell_type": "code",
      "source": [
        "plt.imshow(test_X[5])"
      ],
      "metadata": {
        "colab": {
          "base_uri": "https://localhost:8080/",
          "height": 282
        },
        "id": "pu5fbTferi2-",
        "outputId": "c9be3a1f-a0fa-42a0-e104-b3bdfb3bd4e1"
      },
      "execution_count": 22,
      "outputs": [
        {
          "output_type": "execute_result",
          "data": {
            "text/plain": [
              "<matplotlib.image.AxesImage at 0x7f7399cf13d0>"
            ]
          },
          "metadata": {},
          "execution_count": 22
        },
        {
          "output_type": "display_data",
          "data": {
            "text/plain": [
              "<Figure size 432x288 with 1 Axes>"
            ],
            "image/png": "[encoded data removed]"
          },
          "metadata": {
            "needs_background": "light"
          }
        }
      ]
    },
    {
      "cell_type": "markdown",
      "source": [
        "# Prediccion 2"
      ],
      "metadata": {
        "id": "cRtpZ4YegSdr"
      }
    },
    {
      "cell_type": "code",
      "source": [
        "predictions[10]"
      ],
      "metadata": {
        "colab": {
          "base_uri": "https://localhost:8080/"
        },
        "id": "i17bE6chgWer",
        "outputId": "2d011162-ea29-403e-8620-0ddf849735f7"
      },
      "execution_count": 23,
      "outputs": [
        {
          "output_type": "execute_result",
          "data": {
            "text/plain": [
              "array([0.09548143, 0.09609033, 0.0795415 , 0.10022917, 0.03538762,\n",
              "       0.14420262, 0.16044655, 0.04011899, 0.13267924, 0.11582259],\n",
              "      dtype=float32)"
            ]
          },
          "metadata": {},
          "execution_count": 23
        }
      ]
    },
    {
      "cell_type": "code",
      "source": [
        "np.argmax(predictions[10])"
      ],
      "metadata": {
        "colab": {
          "base_uri": "https://localhost:8080/"
        },
        "id": "M7XQqyH0gYyQ",
        "outputId": "29e2eb2f-f14b-46fb-df02-b58d83d5b50e"
      },
      "execution_count": 24,
      "outputs": [
        {
          "output_type": "execute_result",
          "data": {
            "text/plain": [
              "6"
            ]
          },
          "metadata": {},
          "execution_count": 24
        }
      ]
    },
    {
      "cell_type": "code",
      "source": [
        "test_Y[10]"
      ],
      "metadata": {
        "colab": {
          "base_uri": "https://localhost:8080/"
        },
        "id": "tuPKojATgbXn",
        "outputId": "ab57abf9-cd6f-4107-fd2e-9e2bfde321d5"
      },
      "execution_count": 25,
      "outputs": [
        {
          "output_type": "execute_result",
          "data": {
            "text/plain": [
              "6"
            ]
          },
          "metadata": {},
          "execution_count": 25
        }
      ]
    },
    {
      "cell_type": "code",
      "source": [
        "plt.imshow(test_X[10])"
      ],
      "metadata": {
        "colab": {
          "base_uri": "https://localhost:8080/",
          "height": 282
        },
        "id": "sLvloECKxvqV",
        "outputId": "4dcb72e6-3689-4bc5-ad16-5d0efa969271"
      },
      "execution_count": 27,
      "outputs": [
        {
          "output_type": "execute_result",
          "data": {
            "text/plain": [
              "<matplotlib.image.AxesImage at 0x7f7399c44650>"
            ]
          },
          "metadata": {},
          "execution_count": 27
        },
        {
          "output_type": "display_data",
          "data": {
            "text/plain": [
              "<Figure size 432x288 with 1 Axes>"
            ],
            "image/png": "[encoded data removed]"
          },
          "metadata": {
            "needs_background": "light"
          }
        }
      ]
    },
    {
      "cell_type": "markdown",
      "source": [
        "# Prediccion 3"
      ],
      "metadata": {
        "id": "ENYg8tPhggs1"
      }
    },
    {
      "cell_type": "code",
      "source": [
        "predictions[120]"
      ],
      "metadata": {
        "colab": {
          "base_uri": "https://localhost:8080/"
        },
        "id": "5I22SwozgtSN",
        "outputId": "ed34efb3-05df-4a6a-f940-7b420f3dc141"
      },
      "execution_count": 28,
      "outputs": [
        {
          "output_type": "execute_result",
          "data": {
            "text/plain": [
              "array([9.6369380e-01, 2.1589317e-03, 1.4015544e-03, 6.6314667e-04,\n",
              "       2.6614082e-03, 2.9225489e-03, 8.1548672e-03, 9.4283158e-03,\n",
              "       5.9921709e-03, 2.9231859e-03], dtype=float32)"
            ]
          },
          "metadata": {},
          "execution_count": 28
        }
      ]
    },
    {
      "cell_type": "code",
      "source": [
        "np.argmax(predictions[120])"
      ],
      "metadata": {
        "colab": {
          "base_uri": "https://localhost:8080/"
        },
        "id": "stxaQgMCgzFo",
        "outputId": "3160e137-59cc-44c0-d4fd-42e1a3382143"
      },
      "execution_count": 29,
      "outputs": [
        {
          "output_type": "execute_result",
          "data": {
            "text/plain": [
              "0"
            ]
          },
          "metadata": {},
          "execution_count": 29
        }
      ]
    },
    {
      "cell_type": "code",
      "source": [
        "test_Y[120]"
      ],
      "metadata": {
        "colab": {
          "base_uri": "https://localhost:8080/"
        },
        "id": "-lKKPsX4g04I",
        "outputId": "59ee5112-c2f6-4143-d94b-359c5041beb7"
      },
      "execution_count": 30,
      "outputs": [
        {
          "output_type": "execute_result",
          "data": {
            "text/plain": [
              "0"
            ]
          },
          "metadata": {},
          "execution_count": 30
        }
      ]
    },
    {
      "cell_type": "code",
      "source": [
        "plt.imshow(test_X[120])"
      ],
      "metadata": {
        "colab": {
          "base_uri": "https://localhost:8080/",
          "height": 282
        },
        "id": "o0qN5qIcx6Ts",
        "outputId": "c69b3a64-3312-46ae-d2c2-739f8fcdec05"
      },
      "execution_count": 31,
      "outputs": [
        {
          "output_type": "execute_result",
          "data": {
            "text/plain": [
              "<matplotlib.image.AxesImage at 0x7f7399b9ee10>"
            ]
          },
          "metadata": {},
          "execution_count": 31
        },
        {
          "output_type": "display_data",
          "data": {
            "text/plain": [
              "<Figure size 432x288 with 1 Axes>"
            ],
            "image/png": "[encoded data removed]"
          },
          "metadata": {
            "needs_background": "light"
          }
        }
      ]
    }
  ]
}