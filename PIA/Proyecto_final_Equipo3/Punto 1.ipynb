{
  "nbformat": 4,
  "nbformat_minor": 0,
  "metadata": {
    "colab": {
      "provenance": [],
      "collapsed_sections": []
    },
    "kernelspec": {
      "name": "python3",
      "display_name": "Python 3"
    },
    "language_info": {
      "name": "python"
    }
  },
  "cells": [
    {
      "cell_type": "markdown",
      "source": [
        "Alec Daniel Jurado Luna 1734696          \n",
        "Cristian Alejandro Luna Pineda 1819020         \n",
        "Diego Alejandro Montoya Ortega 1748924         \n",
        "Brandon Gerardo Coria Peña 1911618      \n",
        "Miguel Angel Solis Corpus 1908279       \n",
        "Ivan Patricio Lomas Castillo 1847798      \n",
        "Rodolfo Atilano Santos 1856728\n",
        "\n"
      ],
      "metadata": {
        "id": "bZoRVfXICuDN"
      }
    },
    {
      "cell_type": "code",
      "execution_count": 356,
      "metadata": {
        "id": "0eCVgqy70nbS"
      },
      "outputs": [],
      "source": [
        "import cv2\n",
        "import glob\n",
        "import matplotlib.pyplot as plt\n",
        "\n",
        "import tensorflow as tf\n",
        "from tensorflow import keras\n",
        "\n",
        "import numpy as np\n",
        "import matplotlib.pyplot as plt\n",
      ]
    },
    {
      "cell_type": "code",
      "source": [
        "imagenes_full=[]\n",
        "etiquetas_full =[]\n",
        "num = 0"
      ],
      "metadata": {
        "id": "8NOqRQqAsk7_"
      },
      "execution_count": 357,
      "outputs": []
    },
    {
      "cell_type": "code",
      "source": [
        "for m in \"Mecatronic\":\n",
        "  path = glob.glob(\"/content/num2/\" + str(num) + \"/*.jpeg\")\n",
        "  for n in path:\n",
        "    test_image = cv2.imread(n, cv2.IMREAD_GRAYSCALE)\n",
        "  \n",
        "    # Formato de imagen\n",
        "    img_resized = cv2.resize(test_image, (28, 28), interpolation=cv2.INTER_LINEAR)\n",
        "    img_resized = cv2.bitwise_not(img_resized)\n",
        "\n",
        "    #Guardar imagenes\n",
        "    imagenes_full.append(img_resized)\n",
        "    etiquetas_full.append(num)\n",
        "  num +=1"
      ],
      "metadata": {
        "id": "XNQ05Lkm3YxP"
      },
      "execution_count": 358,
      "outputs": []
    },
    {
      "cell_type": "code",
      "source": [
        "clas_names = [\"0\", \"1\", \"2\", \"3\", \"4\",\n",
        "              \"5\", \"6\", \"7\", \"8\", \"9\"]"
      ],
      "metadata": {
        "id": "ChGwPnGhhnmr"
      },
      "execution_count": 349,
      "outputs": []
    },
    {
      "cell_type": "code",
      "source": [
        "gde = len(imagenes_full)\n",
        "plt.imshow(imagenes_full[139], cmap='gray')\n",
        "print(gde)\n",
        "plt.xlabel(etiquetas_full[139])"
      ],
      "metadata": {
        "colab": {
          "base_uri": "https://localhost:8080/",
          "height": 316
        },
        "id": "eROWe9rw1WTq",
        "outputId": "aabd0f34-7d65-48dc-9aed-75504439e51c"
      },
      "execution_count": 359,
      "outputs": [
        {
          "output_type": "stream",
          "name": "stdout",
          "text": [
            "700\n"
          ]
        },
        {
          "output_type": "execute_result",
          "data": {
            "text/plain": [
              "Text(0.5, 0, '1')"
            ]
          },
          "metadata": {},
          "execution_count": 359
        },
        {
          "output_type": "display_data",
          "data": {
            "text/plain": [
              "<Figure size 432x288 with 1 Axes>"
            ],
            "image/png": "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\n"
          },
          "metadata": {
            "needs_background": "light"
          }
        }
      ]
    },
    {
      "cell_type": "code",
      "source": [
        "y = np.array(etiquetas_full)\n",
        "X = np.array(imagenes_full, dtype=np.uint8)"
      ],
      "metadata": {
        "id": "hpQ8Z3MRP2GY"
      },
      "execution_count": 360,
      "outputs": []
    },
    {
      "cell_type": "code",
      "source": [
        "train_X,test_X,train_Y,test_Y = train_test_split(X,y,test_size=0.2)\n",
        "print('Training data shape : ', train_X.shape, train_Y.shape)\n",
        "print('Testing data shape : ', test_X.shape, test_Y.shape)"
      ],
      "metadata": {
        "colab": {
          "base_uri": "https://localhost:8080/"
        },
        "id": "ZJ8mx1PmRkUR",
        "outputId": "b48487c2-22c1-4383-969e-8cfb3f356973"
      },
      "execution_count": 361,
      "outputs": [
        {
          "output_type": "stream",
          "name": "stdout",
          "text": [
            "Training data shape :  (560, 28, 28) (560,)\n",
            "Testing data shape :  (140, 28, 28) (140,)\n"
          ]
        }
      ]
    },
    {
      "cell_type": "code",
      "source": [
        "train_X = train_X / 255.\n",
        "test_X = test_X / 255."
      ],
      "metadata": {
        "id": "MXPfdtDtSCeN"
      },
      "execution_count": 362,
      "outputs": []
    },
    {
      "cell_type": "code",
      "source": [
        "plt.figure(figsize=(10,10))\n",
        "for i in range(25):\n",
        "    plt.subplot(5,5,i+1)\n",
        "    plt.xticks([])\n",
        "    plt.yticks([])\n",
        "    plt.grid(False)\n",
        "    plt.imshow(train_X[i], cmap=plt.cm.binary)\n",
        "    plt.xlabel([train_Y[i]])\n",
        "plt.show()"
      ],
      "metadata": {
        "colab": {
          "base_uri": "https://localhost:8080/",
          "height": 589
        },
        "id": "tPkATEqsUUhf",
        "outputId": "d6e50d16-6d64-427a-f27f-bb18c4d12d47"
      },
      "execution_count": 363,
      "outputs": [
        {
          "output_type": "display_data",
          "data": {
            "text/plain": [
              "<Figure size 720x720 with 25 Axes>"
            ],
            "image/png": "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\n"
          },
          "metadata": {}
        }
      ]
    },
    {
      "cell_type": "code",
      "source": [
        "model = keras.Sequential([\n",
        "    keras.layers.Flatten(input_shape=(28, 28)),\n",
        "    keras.layers.Dense(128, activation='relu'),\n",
        "    keras.layers.Dense(10, activation='softmax')\n",
        "])"
      ],
      "metadata": {
        "id": "q6Rq6_VmB3vv"
      },
      "execution_count": 364,
      "outputs": []
    },
    {
      "cell_type": "code",
      "source": [
        "model.compile(optimizer='adam',\n",
        "              loss='sparse_categorical_crossentropy',\n",
        "              metrics=['accuracy'])"
      ],
      "metadata": {
        "id": "VSkFjJVfB7FN"
      },
      "execution_count": 365,
      "outputs": []
    },
    {
      "cell_type": "code",
      "source": [
        "history = model.fit(train_X, train_Y, epochs=10, validation_data=(test_X, test_Y))"
      ],
      "metadata": {
        "colab": {
          "base_uri": "https://localhost:8080/"
        },
        "id": "Z0mqmwC1Sl0i",
        "outputId": "83214752-5c8e-44cb-b52e-19de78f66c3a"
      },
      "execution_count": 366,
      "outputs": [
        {
          "output_type": "stream",
          "name": "stdout",
          "text": [
            "Epoch 1/10\n",
            "18/18 [==============================] - 1s 30ms/step - loss: 2.1370 - accuracy: 0.3804 - val_loss: 1.9581 - val_accuracy: 0.6071\n",
            "Epoch 2/10\n",
            "18/18 [==============================] - 0s 16ms/step - loss: 1.6644 - accuracy: 0.7768 - val_loss: 1.6004 - val_accuracy: 0.7143\n",
            "Epoch 3/10\n",
            "18/18 [==============================] - 0s 15ms/step - loss: 1.2342 - accuracy: 0.8768 - val_loss: 1.2505 - val_accuracy: 0.7571\n",
            "Epoch 4/10\n",
            "18/18 [==============================] - 0s 16ms/step - loss: 0.8713 - accuracy: 0.9054 - val_loss: 0.9796 - val_accuracy: 0.8000\n",
            "Epoch 5/10\n",
            "18/18 [==============================] - 0s 21ms/step - loss: 0.6165 - accuracy: 0.9286 - val_loss: 0.8076 - val_accuracy: 0.8071\n",
            "Epoch 6/10\n",
            "18/18 [==============================] - 0s 22ms/step - loss: 0.4511 - accuracy: 0.9554 - val_loss: 0.7088 - val_accuracy: 0.8143\n",
            "Epoch 7/10\n",
            "18/18 [==============================] - 0s 21ms/step - loss: 0.3462 - accuracy: 0.9607 - val_loss: 0.6499 - val_accuracy: 0.8143\n",
            "Epoch 8/10\n",
            "18/18 [==============================] - 0s 16ms/step - loss: 0.2777 - accuracy: 0.9696 - val_loss: 0.6197 - val_accuracy: 0.8286\n",
            "Epoch 9/10\n",
            "18/18 [==============================] - 0s 17ms/step - loss: 0.2270 - accuracy: 0.9768 - val_loss: 0.5987 - val_accuracy: 0.8357\n",
            "Epoch 10/10\n",
            "18/18 [==============================] - 0s 16ms/step - loss: 0.1923 - accuracy: 0.9821 - val_loss: 0.5913 - val_accuracy: 0.8357\n"
          ]
        }
      ]
    },
    {
      "cell_type": "code",
      "source": [
        "test_loss, test_acc = model.evaluate(test_X,  test_Y, verbose=2)\n",
        "\n",
        "print('\\nTest accuracy:', test_acc)"
      ],
      "metadata": {
        "colab": {
          "base_uri": "https://localhost:8080/"
        },
        "id": "LhXSkwi0S81a",
        "outputId": "f0b4413f-6a48-47f7-df58-fffa614e01fd"
      },
      "execution_count": 367,
      "outputs": [
        {
          "output_type": "stream",
          "name": "stdout",
          "text": [
            "5/5 - 0s - loss: 0.5913 - accuracy: 0.8357 - 29ms/epoch - 6ms/step\n",
            "\n",
            "Test accuracy: 0.8357142806053162\n"
          ]
        }
      ]
    },
    {
      "cell_type": "code",
      "source": [
        "plt.plot(history.history['accuracy'], label='accuracy')\n",
        "plt.plot(history.history['val_accuracy'], label = 'val_accuracy')\n",
        "plt.xlabel('Epoch')\n",
        "plt.ylabel('Accuracy')\n",
        "plt.ylim([0.1, 1])\n",
        "plt.legend(loc='lower right')\n",
        "\n",
        "test_loss, test_acc = model.evaluate(test_X,  test_Y, verbose=2)"
      ],
      "metadata": {
        "colab": {
          "base_uri": "https://localhost:8080/",
          "height": 301
        },
        "id": "7i-AjABSceET",
        "outputId": "c4877197-bbca-4415-c1a4-814add397e68"
      },
      "execution_count": 368,
      "outputs": [
        {
          "output_type": "stream",
          "name": "stdout",
          "text": [
            "5/5 - 0s - loss: 0.5913 - accuracy: 0.8357 - 27ms/epoch - 5ms/step\n"
          ]
        },
        {
          "output_type": "display_data",
          "data": {
            "text/plain": [
              "<Figure size 432x288 with 1 Axes>"
            ],
            "image/png": "iVBORw0KGgoAAAANSUhEUgAAAYIAAAEKCAYAAAAfGVI8AAAABHNCSVQICAgIfAhkiAAAAAlwSFlzAAALEgAACxIB0t1+/AAAADh0RVh0U29mdHdhcmUAbWF0cGxvdGxpYiB2ZXJzaW9uMy4yLjIsIGh0dHA6Ly9tYXRwbG90bGliLm9yZy+WH4yJAAAgAElEQVR4nO3deXxV9Z3/8deHLGSDgOwkbNYgiwGRKC6tUpQWq4LWItjWqYxKbat1malV21FrfXT6azvT6tQ6xdZtWksrVkCLWreOzrgMIBEERKiiJGGJLCEBsn9+f5ybcAkJXCAn9yb3/Xw88sg955577udeyPdzzvd7zvdj7o6IiCSvbvEOQERE4kuJQEQkySkRiIgkOSUCEZEkp0QgIpLklAhERJJcaInAzB4ys21m9m4bz5uZ3WdmG8xspZmdElYsIiLStjDPCB4Bph3i+fOBgsjPXOCBEGMREZE2hJYI3P1VYMchNpkBPOaBN4FeZjYorHhERKR1qXF87zxgU9RySWTd5pYbmtlcgrMGsrOzJ44aNapDAhQR6SqWL1/+ibv3a+25eCaCmLn7PGAeQFFRkS9btizOEYmIdC5m9lFbz8XzqqFSYEjUcn5knYiIdKB4JoLFwD9Erh46Hahw94O6hUREkpm7U13XwM49teyrbQjlPULrGjKzPwCTgb5mVgLcCaQBuPt/AkuALwAbgL3AnLBiERFpb42NTk19I/vqGoKf2gaq64KfpuV9dQ3U1B28zb7m7RpbWddAdeS1wbrG5vf80SWFfHnS0Hb/LKElAne//DDPO/CtsN5fRKRJY6Ozp7aePTUNVNXUsyfyU1VTz57aeqqq66mqadi/rml9ZF10Y93UoNfUNx7+jVvRPbUbmekpZKalkBH5yUwL1vXOSqN7WvBcZloKmelN23QjMy2FicN6t/M3E+gUg8Uiknxq6huorI5qsFs01M3raoPHVdUHNu7Rjf7eGLtUzCAnPZXs7qlkd08hp3vwuHdWenNj3FYjnpG2f330NvsfdyMjNYVu3Szkb+7IKRGISCgaGp3K6jp276unYl8du6vr2L2vLupxa+vrmx/HesSdkdatucHOTk8lp3sq/XK6M7xP8LjpueZtohr4lusy01IwS7yGOmxKBCLSKndnT20DuyONdcXeAxvqthrzysg2lTX1h9x/SjejZ0YqPTPT6JmRRm5mGgNzM5of98xMo0dG0Ljvb7RTohrvVLLTU0hN0ZRpx0qJQKQTco8MVNY2UF2/f2CyOjK4uO+AwcZI/3Zt4/4ByVZety/qtXtr69ldXU9D46FL2eZ0T93fmGemkd87K9KIpwa/M4L1wePU/Y8z08hOT86j70SkRCASZ7v21rK6bDeryyr4oHwPe2qbBiMbDmzQaxuojmr8j6bceHpKt6Cvu2WfdloK/XukBf3YaSlkpac0N+RNDff+x6n0zAiO1nU03jUoEYh0EHdnc0V1c6O/umw3a8p2U7prX/M2fXPS6ZGRdsCVJbmZaWSkp5CRmkJmerfmK0r2rztwYDKjxVUpzVeepHZTwy2tUiIQCUFDo/PhJ3tYXVbBmrLdzY3/zr11QHB1yoi+2ZwyrDdXnDGMsYN7MmZQT/rkdI9z5JKMlAhEjlFNfQPvb6lqPspfXVbB2s2V7KsLLllMT+nGyIE5fG7MQMbm9WTs4J6MGtiT7O7685PEoP+JIkegsrou6gg/aPQ3bKuiPjKomtM9lTGDejLr1CGMHdyTsYNzOaF/Dump6pKRxKVEINKGbZXVzf34TUf7H23f2/x835zujB3ckymj+jN2cC5jB/dk6HFZCXnDkMihKBFI0mtsdD7esZc1m3dHde/spryypnmbocdlMXZwT2ZOzG9u9Pv3zIhj1CLtR4lAkkZDo7Npx17Wb6vi/a2VbIj8/nt5VfPEXindjIL+OXymoG9zgz9mcE96ZqTFOXqR8CgRSJfTEDnCb2rs12+t5P2tVfy9vOqAaQsG5WZQMKAHpx/fh5EDchg9qCcjB/QgIy0ljtGLdDwlAum06hsaIw1+FRu2BY39+m1Bg18b1eDn9crkhP45nHVCHwr696BgQA4n9M+hh47yRQAlAukE6hsa2bh97wGN/fqtlXxQvofahgMb/IIBQbfOCf1zGDmgByf0zyFHl2mKHFKofyFmNg24F0gBfuPuP27x/DDgIaAfsAP4qruXhBmTJK66hkY+2r6H9VurIg1+Jeu3VvHhJwc2+Pm9Mxk5oAfnjOxHwYAeFPTP4VNq8EWOWpgVylKA+4GpQAmw1MwWu/uaqM1+Bjzm7o+a2RTgX4ErwopJEscnVTWsKq1gVUkF67ZWsn5rJR9+soe6hv0T6Aw5LpOR/XsweVQ/RkZ16WSlq8EXaU9h/kWdBmxw9w8AzGw+MAOITgRjgJsjj18BFoYYj8RJxd46VpVWsLJ0Fys3VbCqtKJ5fh0zGNI7i5EDcpgyagAjB+RQ0L8Hn+qfrQZfpIOE+ZeWB2yKWi4BJrXY5h3giwTdR5cAPcysj7tvDzEuCVFVTT3vRo70V5ZWsLJk1wE3YQ3vk8Upw3pz5ZnDKczP5aS8XHXpiMRZvP8C/xn4pZldCbwKlAIH1ZQzs7nAXIChQ9u/cLMcnX21DazZXMHKkv0N/9/Lq5qnR87rlUlhXi6zTh3CuLxeFOblkpulK3VEEk2YiaAUGBK1nB9Z18zdywjOCDCzHOBSd9/VckfuPg+YB1BUVHQUs7DLsaqpb2DdlkreKalgVckuVpZUsH5bVXPhkn49ujM+P5fp4wdTmJ9LYV4ufTWTpkinEGYiWAoUmNkIggQwG/hy9AZm1hfY4e6NwG0EVxBJnNU1NLJ+axWrSndFGv4K3tuyu3kgt3dWGuPyezF1zADG5fdiXH4uAzTdgkinFVoicPd6M7sOeJ7g8tGH3H21md0NLHP3xcBk4F/NzAm6hr4VVjzSuoZG54PyqqB7p7SCd0p2saZsd/MduD0yUhmXn8tVnz6ecfm5jMvPJa9XpkoMinQh5kdT7y6OioqKfNmyZfEOo1Orb2jk4f/dyAtrt7K6tII9tcGwTFZ6Cifl5TIuL5fC/FzG5fdimGbTFOkSzGy5uxe19ly8B4ulg23asZeb/ljMso92Mi4/l5lFQyjMC470j++XQ4oafZGko0SQRBYVl/L9p97FgV/MOpmLJ+TFOyQRSQBKBEmgsrqOOxet5s8rSjllaC/unT2BIcdlxTssEUkQSgRd3PKPdnLjH1dQunMfN55XwHWfPYHUFJVNFJH9lAi6qIZG5/5XNnDvS+sZlJvBE9eewcRhx8U7LBFJQEoEXdCmHXu5+U/FLN24k4tPHszdF5+kClsi0iYlgi5GA8IicqSUCLoIDQiLyNFSIugC3v54JzfOL6Zk515uOLeA66doQFhEYqdE0Im1HBD+09fPoGi4BoRF2lRfC7VVUFMZ+V0FtZWR35H1LdfV7oHG+nhHHjj1aiiY2u67VSLopEp2BncIa0BYurTGxkhj3FqjHbXcZsPeYrmhNrb3TUmH9BzongPpPSAlQZrK2j2h7DZBPp0cicXvlPG9p1bhDj+fNZ5LJuTHOySRI9NQB1XboHILVJZFfm8++Pe+nTHu0KB7j6jGO/I7q2+wPnpd+qGWI/tITQ/14ycaJYJOpLK6jjsXr+bPb2tAWBJUYyPs/eTgRn13i8Z+TznQYsJLS4EeA4Of446HYWdCVp+oBr5lQx+1nJYV1D2Vo6JE0EloQFjiyh2qd7XeqDf/3gJVW1rvT8/uBz0GBT+DJ0QeD9z/u+fgoNHvltLxn02UCBJd9IDwwJ4aEO60Gupa9GM3DUy26Nuu2xfvSAN1+w5u6OurD94uo9f+xrzvyP2NenQjnzMAUjR+lciUCBJY9IDwjJMH80MNCHecxkao23Ngo92yEW/rKpPWXtNQE9v7WrfgJ95Suu9v1PNPPbBhj/6dlhnvSKUdhJoIzGwacC9BhbLfuPuPWzw/FHgU6BXZ5lZ3XxJmTJ2FBoSPkDvU1xym0W6rEW9lm9o9HNSH3So7uN+6ew5kDTuCAcqo5VTVeZaOF1oiMLMU4H5gKlACLDWzxe6+Jmqz7wN/cvcHzGwMsAQYHlZMnUFVTT13LHq3eUD4F7MmMLRPFx4QrtsHe7e33iDXVB76UsCWr4n1Wu/UjP0NcPceQSOc0x/Sjz+yRjs9B9KzNUgpnV6YZwSnARvc/QMAM5sPzACiE4EDPSOPc4GyEONJeEkzILxrE6x7FtYtgY3/A411h97eUlpvkHMGHHjlSFOjfrhGPFGuCRdJEGH+ReQBm6KWS4BJLba5C/irmV0PZAPntbYjM5sLzAUYOnRouwcab11+QNgdNr8TNPzrlsCWVcH6PifA6dcGv1teDhjdqKdm6KhbJETxPjS6HHjE3f/NzM4A/svMTnL3xuiN3H0eMA+C4vVxiDM0XXZAuL4GNr4G7y2B95+D3aWAwZBJMPVuOPEL0Lcg3lGKCOEmglJgSNRyfmRdtKuAaQDu/oaZZQB9gW0hxpUwutyA8N4dsP6F4Kh/w0tBf35aFnxqCnz2ezDy85DdN95RikgLYSaCpUCBmY0gSACzgS+32OZj4FzgETMbDWQA5SHGlBC61IDwjg8jXT7PwkevgzcEffcnfRFGXQAjztYlhiIJLrRE4O71ZnYd8DzBpaEPuftqM7sbWObui4F/Ah40s5sIBo6vdPcu1fXT0pqy3Vz7u+Wdd0C4sRHK3ob3/hI0/uVrg/X9x8Cnbwy6fAafAt060WcSSXKhjhFE7glY0mLdHVGP1wBnhRlDorlz8bvsrW3oXAPCdfvgg/8Ojvzffw6qtgZX8gw7E075VzhxWjA3jIh0SvEeLE4qJTv3snTjTr7z+RMTPwns+SRo9Nc9C39/Ger2BlfxFJwXHPWfcB5kJfhnEJGYKBF0oMXvBLdJTB8/OM6RtOGT9fu7fDa9BTj0zIOTvxw0/sM/rTtfRbogJYIOtGhFGROH9U6cqaMbG2DT/+2/vn/7hmD9wHEw+VY48fzgsa7hF+nSlAg6yHtbdrNuayV3zxgb30Bq9wRdPeueDbp+9m6Hbmkw4jMw6dqg8c/t5JexisgRUSLoIIuKy0jpZlxQOKjj37xyS2RKh2fhg78FM2Fm5ELB5/b392f0POxuRKRrUiLoAI2NzuLiMj5T0Jc+OR3Qx+4O29bCukh/f+nyYH2vYXDqVcFR/9AzNEe8iABKBB1i+cc7Kd21j3/+/Mjw3qShDj5+I2j43/sL7PooWJ83Eab8S3Dk33+0+vtF5CBKBB1gUXEpGWnd+NyYge274+rdsOHFoPFf/9eglGBKdzh+Mnz6puDIv0c7v6eIdDlKBCGra2jkLys3M3XMQLK7t8PXXVGyfwrnD18LpnDO6hNM53Di+cG8PunZx/4+IpI0lAhC9tr6cnburePik4/y3gF32LIymMVz3ZLgMUSmcP5G0OUz5DQV/RaRo6ZEELKFK8rolZXGZwr6xf6i+tpgCuemydyip3A+7wfB0b+mcBaRdqJEEKI9NfW8sGYrl5ySR3rqYSZh27dz/xTO619sMYXz7VDwecg5gmQiIhIjJYIQvbh2K/vqGrj45LzWN9jx4f7+/qYpnLP7B1M4n/gFOP4cTeEsIqFTIgjRwhWlDM7NoGhY7/0rd26Etx8LEsC2SPnmfqPhrBuCLh9N4SwiHUyJICTbq2p4df0nXP2ZEXTrFrl2f/VCWHRdMJPnsDPh8z8KrvTRFM4iEkehJgIzmwbcS1CY5jfu/uMWz/8c+GxkMQvo7+69woypoyxZtZmGRg+6hepr4YU74K0HIK8IZj4MvYbGO0QRESDERGBmKcD9wFSgBFhqZosjxWgAcPebora/HpgQVjwdbVFxGSMH5DAqswIe+SKULIVJ3wgKt6emxzs8EZFmYZ4RnAZscPcPAMxsPjADWNPG9pcDd4YYT4fZtGMvyz7ayX2nbsd+fSU01MLMR2DsJfEOTUTkIGEmgjxgU9RyCTCptQ3NbBgwAni5jefnAnMBhg5N/C6Vp4s3cWPqAi5a9VQwv89lj+m6fxFJWIkyWDwbWODuDa096e7zgHkARUVFiV3cfs8nTHp9LhNTi2H85XDBv0N6ghSiERFpRZjXKZYCQ6KW8yPrWjMb+EOIsXSMj9+i7ldncVLdat4Yeydc/ICSgIgkvDATwVKgwMxGmFk6QWO/uOVGZjYK6A28EWIs4XKHN34Fj3yBqvoUvlT/A0ae/y1N+SwinUJoXUPuXm9m1wHPE1w++pC7rzazu4Fl7t6UFGYD8909sbt82lK9GxZ9C9Yuxk/8ArM3fpnBJwzomAI0IiLtINQxAndfAixpse6OFst3hRlDqLa8C3/6h+Bu4ak/ZOmgr7DunTf5xrQ2ppQQEUlAmsvgaK34Pfzm3KAY/JXPwFnfZtE7ZWSmpTB1zIB4RyciErNEuWqo86jbB0u+Ayv+C0acDZf+FnL6U1vfyF9WbWbqmAHtU4BGRKSDqMU6Etv/Dn/6GmxdBWd/Bybf1lwQ5rX15ezaW8eMoy1AIyISJ0oEsVr7NCz8ZtDwf/kJGPm5A55eVFxG76w0zh6pmgEi0rkoERxOQx28eBe88ctgiujLHj1owrimAjRfPCWPtBQNu4hI56JEcCi7y+CJObDpTThtLnzuHkg9+LLQF9YEBWhmtFWARkQkgSkRtOXvr8CTVweDw5f+Fgq/1Oami4pLyeuVeWABGhGRTkL9GC01NsJ//wT+6xLI7gtzXzlkEmgqQHPR+MH7C9CIiHQiOiOItmc7PDUXNrwIhZfBRb+A9OxDvqSpAI2uFhKRzkqJoEnJsuDS0D3b4MKfw8Q5Mc0VtLC4jBMH9GD0oJ4dEKSISPs7bNeQmV1kZl23C8kd3vo1PDQtKBp/1V+h6B9jSgKbduxl+Uc7ma6zARHpxGJp4GcB683sJ5GZQruOmkpYMAeevQVOOA++/ioMjr1a5uJ3ygCYPl6JQEQ6r8N2Dbn7V82sJ0EpyUfMzIGHgT+4e2XYAYZm65pgwrgdf4fzfgBnfjs4I4iRu7OouJSiYb0ZcpxqDohI5xVTy+fuu4EFwHxgEHAJ8Hak4Hzn8858eHAK1OyGrz0Nn77xiJIAwHtbKnl/a5UGiUWk0zvsGYGZTQfmACcAjwGnufs2M8siKET/H+GG2I7qqoNuoLcfheGfCe4P6HF0M4UuKi4jtZtxwTglAhHp3GI5DL4U+Lm7F7r7T919G4C77wWuOtQLzWyama0zsw1mdmsb21xmZmvMbLWZPX7EnyBWOz6E304NksCnb4YrFh51EmhsdBYXl/KZgr4cl53ezoGKiHSsWC4fvQvY3LRgZpnAAHff6O4vtfUiM0sB7gemAiXAUjNb7O5rorYpAG4DznL3nWbW/+g+RgzWLIJdH8Hlf4QTpx3TrpZ9tJOyimq+e37XGjsXkeQUyxnBE0Bj1HJDZN3hnAZscPcP3L2WYHxhRottrgHud/edAE1nG6E489vwzTePOQkALCwuJTMthfNGqwCNiHR+sSSC1EhDDkDkcSz9IXnApqjlksi6aCOBkWb2v2b2ppm12kqb2VwzW2Zmy8rLy2N461Z06wY9j70/v7a+kSUqQCMiXUgsiaA8MmAMgJnNAD5pp/dPBQqAyQSXpz5oZr1abuTu89y9yN2L+vWL73z/TQVoLp6gQWIR6RpiOaS9Fvi9mf0SMIKj/H+I4XWlwJCo5fzIumglwFvuXgd8aGbvEySGpTHsPy4WRgrQfKZABWhEpGs47BmBu//d3U8HxgCj3f1Md98Qw76XAgVmNsLM0oHZwOIW2ywkOBvAzPoSdBV9cATxd6igAM0WLhg3SAVoRKTLiKmT28wuAMYCGRaZg8fd7z7Ua9y93syuA54HUoCH3H21md0NLHP3xZHnPmdmawgGob/j7tuP+tOE7K9rtlBd16gCNCLSpcRyQ9l/AlnAZ4HfAF8C/i+Wnbv7EmBJi3V3RD124ObIT8JbVFxGXq9MJg5VARoR6Tpi6d84093/Adjp7j8AziDowkkq26tqeG39J0w/WQVoRKRriSURVEd+7zWzwUAdwXxDSeUvKkAjIl1ULGMET0cu6fwp8DbgwIOhRpWAFkUK0IwaqAI0ItK1HDIRRArSvOTuu4AnzewZIMPdKzokugTRVIDmlmknxjsUEZF2d8iuIXdvJJgvqGm5JtmSAKgAjYh0bbGMEbxkZpeaxVC7sQtydxauKOXU4b3J760CNCLS9cSSCL5OMMlcjZntNrNKM9sdclwJY+3mStZvq2K67h0QkS4qllKVPToikES16J3SoABNYdJdKCUiSSKWG8rObm29u7/a/uEklsZG5+niMs4e2U8FaESky4rl8tHvRD3OIKgzsByYEkpECWTpxh0qQCMiXV4sXUMXRS+b2RDgF6FFlEAWvVNGZloKU8eoAI2IdF1HM4VmCTC6vQNJNE0FaD43dgBZ6SpAIyJdVyxjBP9BcDcxBInjZII7jLu0V98PCtBoSgkR6epiOdRdFvW4HviDu/9vSPEkjEXvqACNiCSHWBLBAqDa3RsAzCzFzLLcfW+4ocVPVaQAzZcm5qsAjYh0eTHdWQxkRi1nAi/GsnMzm2Zm68xsg5nd2srzV5pZuZkVR36uji3scL0QKUBzsW4iE5EkEMsZQYa7VzUtuHuVmR12rgUzSyGYp2gqwQDzUjNb7O5rWmz6R3e/7kiCDtvCFUEBmlNUgEZEkkAsZwR7zOyUpgUzmwjsi+F1pwEb3P0Dd68F5gMzji7MjvNJVQ3/s0EFaEQkecRyRnAj8ISZlQEGDARmxfC6PGBT1HIJMKmV7S6N3L38PnCTu29quYGZzQXmAgwdOjSGtz56SyIFaNQtJCLJIpYbypaa2SigaTL+de5e107v/zTBVUg1ZvZ14FFauWPZ3ecB8wCKioq85fPtaeGKUkYN7MGJA5N6iiURSSKH7Roys28B2e7+rru/C+SY2Tdj2HcpMCRqOT+yrpm7b3f3msjib4CJsYUdjo+37+Xtj3cxXfcOiEgSiWWM4JpIhTIA3H0ncE0Mr1sKFJjZCDNLB2YDi6M3MLPoKT2nA2tj2G9onl6pAjQiknxiGSNIMTNzd4fmq4EOOxWnu9eb2XXA80AK8JC7rzazu4Fl7r4Y+LaZTSe4UW0HcOVRfo5jpgI0IpKsYkkEzwF/NLNfR5a/Djwby87dfQmwpMW6O6Ie3wbcFluo4WoqQHPPxSfFOxQRkQ4VSyL4LsEVO9dGllcSXDnUpSwqDgrQfEEFaEQkyRx2jCBSwP4tYCPBvQFTiHNffntrbHQWv6MCNCKSnNo8IzCzkcDlkZ9PgD8CuPtnOya0jrN04w42V1RzqwrQiEgSOlTX0HvAa8CF7r4BwMxu6pCoOtjC4jKy0lWARkSS06G6hr4IbAZeMbMHzexcgjuLu5TmAjRjVIBGRJJTm4nA3Re6+2xgFPAKwVQT/c3sATP7XEcFGLb/fr+cin11zNCUEiKSpGIZLN7j7o9HahfnAysIriTqEhYVl3JcdjqfLugb71BEROLiiKquuPtOd5/n7ueGFVBHqqqp58W1W7mgcJAK0IhI0krq1u+vq4MCNKpLLCLJLKkTwaLiMvJ7ZzJxmArQiEjyStpE0FyAZvxgzLrcxVAiIjFL2kTwl5VBARpdLSQiyS5pE8GiYhWgERGBJE0ETQVodDYgIpKkiWDxO0GhtIvGa6ZREZFQE4GZTTOzdWa2wcxuPcR2l5qZm1lRmPFApABNcRmnDT9OBWhERAgxEUQqmd0PnA+MAS43szGtbNcDuIFgquvQrdm8mw3bqlSXWEQkIswzgtOADe7+gbvXAvOBGa1s90Pg/wHVIcbSbHFxGandjAtUgEZEBAg3EeQBm6KWSyLrmpnZKcAQd//LoXZkZnPNbJmZLSsvLz/qgJoK0Jwzsh+9VYBGRASI42CxmXUD/h34p8NtG5nfqMjdi/r163fU7/l/kQI06hYSEdkvzERQCgyJWs6PrGvSAzgJ+JuZbQROBxaHOWC8SAVoREQOEmYiWAoUmNkIM0sHZgOLm5509wp37+vuw919OPAmMN3dl4URjArQiIi0LrRE4O71wHXA8wTF7v/k7qvN7G4zmx7W+7aluQDNBN1EJiISLdRDY3dfAixpse6ONradHGYsO/fWckL/HD59ggrQiIhES5o+ksuKhjBzYr5mGhURaSGppphQEhAROVhSJQIRETmYEoGISJJTIhARSXJKBCIiSU6JQEQkySkRiIgkOSUCEZEkp0QgIpLklAhERJKcEoGISJJTIhARSXJKBCIiSU6JQEQkyYWaCMxsmpmtM7MNZnZrK89fa2arzKzYzP7HzMaEGY+IiBwstERgZinA/cD5wBjg8lYa+sfdvdDdTwZ+QlDMXkREOlCYZwSnARvc/QN3rwXmAzOiN3D33VGL2YCHGI+IiLQizAplecCmqOUSYFLLjczsW8DNQDowpbUdmdlcYC7A0KFD2z1QEZFkFvfBYne/390/BXwX+H4b28xz9yJ3L+rXr1/HBigi0sWFmQhKgSFRy/mRdW2ZD1wcYjwiItKKMBPBUqDAzEaYWTowG1gcvYGZFUQtXgCsDzEeERFpRWhjBO5eb2bXAc8DKcBD7r7azO4Glrn7YuA6MzsPqAN2Al8LKx4REWldmIPFuPsSYEmLdXdEPb4hzPcXEZHDi/tgsYiIxJcSgYhIklMiEBFJckoEIiJJLtTBYhHp+urq6igpKaG6ujreoQiQkZFBfn4+aWlpMb9GiUBEjklJSQk9evRg+PDhmFm8w0lq7s727dspKSlhxIgRMb9OXUMickyqq6vp06ePkkACMDP69OlzxGdnSgQicsyUBBLH0fxbKBGIiCQ5JQIRkSSnRCAiEqP6+vp4hxAKXTUkIu3mB0+vZk3Z7sNveATGDO7JnReNPex2F198MZs2baK6upobbriBuXPn8txzz3H77bfT0NBA3759eemll6iqquL6669n2bJlmBl33nknl156KTk5OVRVVQGwYMECnnnmGR555BGuvPJKMjIyWLFiBWeddRazZ8/mhhtuoLq6mszMTB5++GFOPPFEGhoa+O53v8tzzz1Ht27duOaaaxg7dmGlQo0AAAzUSURBVCz33XcfCxcuBOCFF17gV7/6FU899VS7fkfHSolARLqEhx56iOOOO459+/Zx6qmnMmPGDK655hpeffVVRowYwY4dOwD44Q9/SG5uLqtWrQJg586dh913SUkJr7/+OikpKezevZvXXnuN1NRUXnzxRW6//XaefPJJ5s2bx8aNGykuLiY1NZUdO3bQu3dvvvnNb1JeXk6/fv14+OGH+cd//MdQv4ejoUQgIu0mliP3sNx3333NR9qbNm1i3rx5nH322c3X0x933HEAvPjii8yfP7/5db179z7svmfOnElKSgoAFRUVfO1rX2P9+vWYGXV1dc37vfbaa0lNTT3g/a644gp+97vfMWfOHN544w0ee+yxdvrE7UeJQEQ6vb/97W+8+OKLvPHGG2RlZTF58mROPvlk3nvvvZj3EX3ZZcvr8LOzs5sf/8u//Auf/exneeqpp9i4cSOTJ08+5H7nzJnDRRddREZGBjNnzmxOFIkk1MFiM5tmZuvMbIOZ3drK8zeb2RozW2lmL5nZsDDjEZGuqaKigt69e5OVlcV7773Hm2++SXV1Na+++ioffvghQHPX0NSpU7n//vubX9vUNTRgwADWrl1LY2PjIfvwKyoqyMvLA+CRRx5pXj916lR+/etfNw8oN73f4MGDGTx4MPfccw9z5sxpvw/djkJLBGaWAtwPnA+MAS43szEtNlsBFLn7OGAB8JOw4hGRrmvatGnU19czevRobr31Vk4//XT69evHvHnz+OIXv8j48eOZNWsWAN///vfZuXMnJ510EuPHj+eVV14B4Mc//jEXXnghZ555JoMGDWrzvW655RZuu+02JkyYcMBVRFdffTVDhw5l3LhxjB8/nscff7z5ua985SsMGTKE0aNHh/QNHBtz93B2bHYGcJe7fz6yfBuAu/9rG9tPAH7p7mcdar9FRUW+bNmy9g5XRI7S2rVrE7aBSxTXXXcdEyZM4KqrruqQ92vt38TMlrt7UWvbh9lZlQdsilouASYdYvurgGdDjEdEpMNNnDiR7Oxs/u3f/i3eobQpIUYtzOyrQBFwThvPzwXmAgwdOrQDIxMROTbLly+PdwiHFeZgcSkwJGo5P7LuAGZ2HvA9YLq717S2I3ef5+5F7l7Ur1+/UIIVEUlWYSaCpUCBmY0ws3RgNrA4eoPIuMCvCZLAthBjERGRNoSWCNy9HrgOeB5YC/zJ3Veb2d1mNj2y2U+BHOAJMys2s8Vt7E5EREIS6hiBuy8BlrRYd0fU4/PCfH8RETk8zT4qIpLklAhEJKnk5OTEO4SEkxCXj4pIF/HsrbBlVfvuc2AhnP/j9t1nAqivr0+YeYd0RiAindqtt956wNxBd911F/fccw/nnnsup5xyCoWFhSxatCimfVVVVbX5uscee6x5+ogrrrgCgK1bt3LJJZcwfvx4xo8fz+uvv87GjRs56aSTml/3s5/9jLvuuguAyZMnc+ONN1JUVMS9997L008/zaRJk5gwYQLnnXceW7dubY5jzpw5FBYWMm7cOJ588kkeeughbrzxxub9Pvjgg9x0001H/b0dwN071c/EiRNdRBLHmjVr4vr+b7/9tp999tnNy6NHj/aPP/7YKyoq3N29vLzcP/WpT3ljY6O7u2dnZ7e5r7q6ulZf9+6773pBQYGXl5e7u/v27dvd3f2yyy7zn//85+7uXl9f77t27fIPP/zQx44d27zPn/70p37nnXe6u/s555zj3/jGN5qf27FjR3NcDz74oN98883u7n7LLbf4DTfccMB2lZWVfvzxx3ttba27u59xxhm+cuXKVj9Ha/8mwDJvo11NjPMSEZGjNGHCBLZt20ZZWRnl5eX07t2bgQMHctNNN/Hqq6/SrVs3SktL2bp1KwMHDjzkvtyd22+//aDXvfzyy8ycOZO+ffsC+2sNvPzyy831BVJSUsjNzT1soZumye8gKHgza9YsNm/eTG1tbXPthLZqJkyZMoVnnnmG0aNHU1dXR2Fh4RF+W61TIhCRTm/mzJksWLCALVu2MGvWLH7/+99TXl7O8uXLSUtLY/jw4QfVGGjN0b4uWmpqKo2Njc3Lh6ptcP3113PzzTczffp0/va3vzV3IbXl6quv5kc/+hGjRo1q1ymtNUYgIp3erFmzmD9/PgsWLGDmzJlUVFTQv39/0tLSeOWVV/joo49i2k9br5syZQpPPPEE27dvB/bXGjj33HN54IEHAGhoaKCiooIBAwawbds2tm/fTk1NDc8888wh36+ptsGjjz7avL6tmgmTJk1i06ZNPP7441x++eWxfj2HpUQgIp3e2LFjqaysJC8vj0GDBvGVr3yFZcuWUVhYyGOPPcaoUaNi2k9brxs7dizf+973OOeccxg/fjw333wzAPfeey+vvPIKhYWFTJw4kTVr1pCWlsYdd9zBaaedxtSpUw/53nfddRczZ85k4sSJzd1O0HbNBIDLLruMs846K6YSm7EKrR5BWFSPQCSxqB5Bx7rwwgu56aabOPfcc9vc5kjrEeiMQESkE9i1axcjR44kMzPzkEngaGiwWESSzqpVq5rvBWjSvXt33nrrrThFdHi9evXi/fffD2XfSgQicszcHTOLdxgxKywspLi4ON5hhOJouvvVNSQixyQjI4Pt27cfVQMk7cvd2b59OxkZGUf0Op0RiMgxyc/Pp6SkhPLy8niHIgSJOT8//4heo0QgIsckLS2t+Y5Y6ZxC7Roys2lmts7MNpjZra08f7aZvW1m9Wb2pTBjERGR1oWWCMwsBbgfOB8YA1xuZmNabPYxcCXweFhxiIjIoYXZNXQasMHdPwAws/nADGBN0wbuvjHyXGNrOxARkfCFmQjygE1RyyXApKPZkZnNBeZGFqvMbN1RxtQX+OQoX9sV6fs4kL6P/fRdHKgrfB/D2nqiUwwWu/s8YN6x7sfMlrV1i3Uy0vdxIH0f++m7OFBX/z7CHCwuBYZELedH1omISAIJMxEsBQrMbISZpQOzgcUhvp+IiByF0BKBu9cD1wHPA2uBP7n7ajO728ymA5jZqWZWAswEfm1mq8OKJ+KYu5e6GH0fB9L3sZ++iwN16e+j001DLSIi7UtzDYmIJDklAhGRJJc0ieBw010kCzMbYmavmNkaM1ttZjfEO6ZEYGYpZrbCzNouMJskzKyXmS0ws/fMbK2ZnRHvmOLFzG6K/J28a2Z/MLMjm9azk0iKRBDjdBfJoh74J3cfA5wOfCuJv4toNxBc1CBwL/Ccu48CxpOk34uZ5QHfBorc/SQgheDqxy4nKRIBUdNduHst0DTdRdJx983u/nbkcSXBH3lefKOKLzPLBy4AfhPvWOLNzHKBs4HfArh7rbvvim9UcZUKZJpZKpAFlMU5nlAkSyJobbqLpG78AMxsODABSNz6fB3jF8AtgOa8ghFAOfBwpKvsN2aWHe+g4sHdS4GfEUyOuRmocPe/xjeqcCRLIpAWzCwHeBK40d13xzueeDGzC4Ft7r483rEkiFTgFOABd58A7AGSckzNzHoT9ByMAAYD2Wb21fhGFY5kSQSa7iKKmaURJIHfu/uf4x1PnJ0FTDezjQRdhlPM7HfxDSmuSoASd286S1xAkBiS0XnAh+5e7u51wJ+BM+McUyiSJRFouosICyqM/xZY6+7/Hu944s3db3P3fHcfTvD/4mV375JHfbFw9y3AJjM7MbLqXKKmjk8yHwOnm1lW5O/mXLrowHmnmH30WLl7vZk1TXeRAjzk7mFPZ5GozgKuAFaZWXFk3e3uviSOMUliuR74feSg6QNgTpzjiQt3f8vMFgBvE1xtt4IuOtWEppgQEUlyydI1JCIibVAiEBFJckoEIiJJTolARCTJKRGIiCQ5JQKRFsyswcyKo37a7c5aMxtuZu+21/5E2kNS3EcgcoT2ufvJ8Q5CpKPojEAkRma20cx+YmarzOz/zOyEyPrhZvayma00s5fMbGhk/QAze8rM3on8NE1PkGJmD0bmuf+rmWXG7UOJoEQg0prMFl1Ds6Keq3D3QuCXBLOWAvwH8Ki7jwN+D9wXWX8f8N/uPp5gvp6mu9kLgPvdfSywC7g05M8jcki6s1ikBTOrcvecVtZvBKa4+weRifu2uHsfM/sEGOTudZH1m929r5mVA/nuXhO1j+HAC+5eEFn+LpDm7veE/8lEWqczApEj4208PhI1UY8b0FidxJkSgciRmRX1+43I49fZX8LwK8BrkccvAd+A5prIuR0VpMiR0JGIyMEyo2ZmhaB+b9MlpL3NbCXBUf3lkXXXE1T0+g5Bda+m2TpvAOaZ2VUER/7fIKh0JZJQNEYgEqPIGEGRu38S71hE2pO6hkREkpzOCEREkpzOCEREkpwSgYhIklMiEBFJckoEIiJJTolARCTJ/X/zr33I4ANxYwAAAABJRU5ErkJggg==\n"
          },
          "metadata": {
            "needs_background": "light"
          }
        }
      ]
    },
    {
      "cell_type": "code",
      "source": [
        "predictions = model.predict(test_X)"
      ],
      "metadata": {
        "colab": {
          "base_uri": "https://localhost:8080/"
        },
        "id": "4jDRynfZTM0g",
        "outputId": "38986c08-2a1c-4c8a-cf51-19edd0cf8555"
      },
      "execution_count": 369,
      "outputs": [
        {
          "output_type": "stream",
          "name": "stdout",
          "text": [
            "5/5 [==============================] - 0s 3ms/step\n"
          ]
        }
      ]
    },
    {
      "cell_type": "markdown",
      "source": [
        "# Prediccion 1\n"
      ],
      "metadata": {
        "id": "5IX7_HsWgJxI"
      }
    },
    {
      "cell_type": "code",
      "source": [
        "predictions[5]"
      ],
      "metadata": {
        "colab": {
          "base_uri": "https://localhost:8080/"
        },
        "id": "co21accfTUHK",
        "outputId": "fcecb4b8-0685-4a76-93ed-da98121d5e1f"
      },
      "execution_count": 370,
      "outputs": [
        {
          "output_type": "execute_result",
          "data": {
            "text/plain": [
              "array([4.4217016e-04, 8.1089595e-03, 3.5706750e-04, 2.1289911e-03,\n",
              "       5.0878676e-04, 2.4139404e-03, 9.7716033e-01, 1.9898722e-03,\n",
              "       5.9198285e-03, 9.7000954e-04], dtype=float32)"
            ]
          },
          "metadata": {},
          "execution_count": 370
        }
      ]
    },
    {
      "cell_type": "code",
      "source": [
        "np.argmax(predictions[5])"
      ],
      "metadata": {
        "colab": {
          "base_uri": "https://localhost:8080/"
        },
        "id": "X8l9dIYATcQJ",
        "outputId": "bce878d7-28e6-449f-bc8b-a31d01de09a1"
      },
      "execution_count": 371,
      "outputs": [
        {
          "output_type": "execute_result",
          "data": {
            "text/plain": [
              "6"
            ]
          },
          "metadata": {},
          "execution_count": 371
        }
      ]
    },
    {
      "cell_type": "code",
      "source": [
        "test_Y[5]"
      ],
      "metadata": {
        "colab": {
          "base_uri": "https://localhost:8080/"
        },
        "id": "vXwSVt2STnGY",
        "outputId": "6f6443e4-ceba-4d37-b1d3-1edcc2296ac1"
      },
      "execution_count": 372,
      "outputs": [
        {
          "output_type": "execute_result",
          "data": {
            "text/plain": [
              "6"
            ]
          },
          "metadata": {},
          "execution_count": 372
        }
      ]
    },
    {
      "cell_type": "markdown",
      "source": [
        "# Prediccion 2"
      ],
      "metadata": {
        "id": "cRtpZ4YegSdr"
      }
    },
    {
      "cell_type": "code",
      "source": [
        "predictions[10]"
      ],
      "metadata": {
        "colab": {
          "base_uri": "https://localhost:8080/"
        },
        "id": "i17bE6chgWer",
        "outputId": "078ad1e8-5993-465a-b746-6567d8e3539c"
      },
      "execution_count": 376,
      "outputs": [
        {
          "output_type": "execute_result",
          "data": {
            "text/plain": [
              "array([6.7684904e-04, 6.7463159e-03, 9.5207238e-01, 1.5645944e-02,\n",
              "       9.4017396e-03, 3.7552498e-03, 9.9684775e-04, 1.0756078e-03,\n",
              "       8.4351422e-03, 1.1940147e-03], dtype=float32)"
            ]
          },
          "metadata": {},
          "execution_count": 376
        }
      ]
    },
    {
      "cell_type": "code",
      "source": [
        "np.argmax(predictions[10])"
      ],
      "metadata": {
        "colab": {
          "base_uri": "https://localhost:8080/"
        },
        "id": "M7XQqyH0gYyQ",
        "outputId": "62a5ea98-db4c-4142-886c-e9771b833ba0"
      },
      "execution_count": 377,
      "outputs": [
        {
          "output_type": "execute_result",
          "data": {
            "text/plain": [
              "2"
            ]
          },
          "metadata": {},
          "execution_count": 377
        }
      ]
    },
    {
      "cell_type": "code",
      "source": [
        "test_Y[10]"
      ],
      "metadata": {
        "colab": {
          "base_uri": "https://localhost:8080/"
        },
        "id": "tuPKojATgbXn",
        "outputId": "ce78e630-5b0a-4064-b7b2-4b994b437320"
      },
      "execution_count": 378,
      "outputs": [
        {
          "output_type": "execute_result",
          "data": {
            "text/plain": [
              "2"
            ]
          },
          "metadata": {},
          "execution_count": 378
        }
      ]
    },
    {
      "cell_type": "markdown",
      "source": [
        "# Prediccion 3"
      ],
      "metadata": {
        "id": "ENYg8tPhggs1"
      }
    },
    {
      "cell_type": "code",
      "source": [
        "predictions[40]"
      ],
      "metadata": {
        "colab": {
          "base_uri": "https://localhost:8080/"
        },
        "id": "5I22SwozgtSN",
        "outputId": "3f9a9d23-37ce-48bd-e177-577208393edb"
      },
      "execution_count": 379,
      "outputs": [
        {
          "output_type": "execute_result",
          "data": {
            "text/plain": [
              "array([0.00346051, 0.40642846, 0.22377904, 0.05183705, 0.00758729,\n",
              "       0.11299299, 0.07025804, 0.02687712, 0.01287708, 0.08390234],\n",
              "      dtype=float32)"
            ]
          },
          "metadata": {},
          "execution_count": 379
        }
      ]
    },
    {
      "cell_type": "code",
      "source": [
        "np.argmax(predictions[50])"
      ],
      "metadata": {
        "colab": {
          "base_uri": "https://localhost:8080/"
        },
        "id": "stxaQgMCgzFo",
        "outputId": "0501c0a5-cab6-4470-a2b2-69fc46ca43d9"
      },
      "execution_count": 380,
      "outputs": [
        {
          "output_type": "execute_result",
          "data": {
            "text/plain": [
              "0"
            ]
          },
          "metadata": {},
          "execution_count": 380
        }
      ]
    },
    {
      "cell_type": "code",
      "source": [
        "test_Y[50]"
      ],
      "metadata": {
        "colab": {
          "base_uri": "https://localhost:8080/"
        },
        "id": "-lKKPsX4g04I",
        "outputId": "90035ece-a020-481c-a451-bb2693628b72"
      },
      "execution_count": 381,
      "outputs": [
        {
          "output_type": "execute_result",
          "data": {
            "text/plain": [
              "0"
            ]
          },
          "metadata": {},
          "execution_count": 381
        }
      ]
    },
    {
      "cell_type": "markdown",
      "source": [
        "# Modelo de entrenado a una sola imagen\n"
      ],
      "metadata": {
        "id": "kluasyyTg8lY"
      }
    },
    {
      "cell_type": "code",
      "source": [
        "img = test_X[1]\n",
        "\n",
        "print(img.shape)"
      ],
      "metadata": {
        "colab": {
          "base_uri": "https://localhost:8080/"
        },
        "id": "WylcN22Gb-1w",
        "outputId": "a8028728-5dc0-4579-bbe5-382dc7a335c1"
      },
      "execution_count": 382,
      "outputs": [
        {
          "output_type": "stream",
          "name": "stdout",
          "text": [
            "(28, 28)\n"
          ]
        }
      ]
    },
    {
      "cell_type": "code",
      "source": [
        "img = (np.expand_dims(img,0))\n",
        "\n",
        "print(img.shape)"
      ],
      "metadata": {
        "colab": {
          "base_uri": "https://localhost:8080/"
        },
        "id": "p8PpyMZ4cCUC",
        "outputId": "55048090-fd08-46f6-94b7-b164c66f78de"
      },
      "execution_count": 383,
      "outputs": [
        {
          "output_type": "stream",
          "name": "stdout",
          "text": [
            "(1, 28, 28)\n"
          ]
        }
      ]
    },
    {
      "cell_type": "code",
      "source": [
        "predictions_single = model.predict(img)\n",
        "\n",
        "print(predictions_single)"
      ],
      "metadata": {
        "colab": {
          "base_uri": "https://localhost:8080/"
        },
        "id": "_75NKM_XcHTS",
        "outputId": "c3193795-51df-402e-a93e-eabdf3ca92ff"
      },
      "execution_count": 384,
      "outputs": [
        {
          "output_type": "stream",
          "name": "stdout",
          "text": [
            "1/1 [==============================] - 0s 24ms/step\n",
            "[[3.0415299e-04 9.5264530e-01 2.5356578e-02 2.9845098e-03 3.0603987e-04\n",
            "  3.9898418e-03 5.4536313e-03 2.0765371e-03 2.6527569e-03 4.2306026e-03]]\n"
          ]
        }
      ]
    },
    {
      "cell_type": "code",
      "source": [
        "plot_value_array(1, predictions_single[0], test_Y)\n",
        "_ = plt.xticks(range(10), class_names, rotation=45)"
      ],
      "metadata": {
        "colab": {
          "base_uri": "https://localhost:8080/",
          "height": 267
        },
        "id": "EG2J5WmbcLd0",
        "outputId": "1f97f7cd-5924-4eb8-eed6-f107399a5fe0"
      },
      "execution_count": 385,
      "outputs": [
        {
          "output_type": "display_data",
          "data": {
            "text/plain": [
              "<Figure size 432x288 with 1 Axes>"
            ],
            "image/png": "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\n"
          },
          "metadata": {
            "needs_background": "light"
          }
        }
      ]
    },
    {
      "cell_type": "code",
      "source": [
        "np.argmax(predictions_single[0])"
      ],
      "metadata": {
        "colab": {
          "base_uri": "https://localhost:8080/"
        },
        "id": "0KSFKS1icRoP",
        "outputId": "65933919-c0bf-4dc0-f541-d4edb499641b"
      },
      "execution_count": 386,
      "outputs": [
        {
          "output_type": "execute_result",
          "data": {
            "text/plain": [
              "1"
            ]
          },
          "metadata": {},
          "execution_count": 386
        }
      ]
    }
  ]
}
