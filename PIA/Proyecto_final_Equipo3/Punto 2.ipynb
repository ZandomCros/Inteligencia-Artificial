{
  "cells": [
    {
      "cell_type": "markdown",
      "metadata": {
        "id": "bZoRVfXICuDN"
      },
      "source": [
        "Alec Daniel Jurado Luna 1734696          \n",
        "Cristian Alejandro Luna Pineda 1819020         \n",
        "Diego Alejandro Montoya Ortega 1748924         \n",
        "Brandon Gerardo Coria Peña 1911618      \n",
        "Miguel Angel Solis Corpus 1908279       \n",
        "Ivan Patricio Lomas Castillo 1847798      \n",
        "Rodolfo Atilano Santos 1856728\n",
        "\n"
      ]
    },
    {
      "cell_type": "code",
      "execution_count": 553,
      "metadata": {
        "id": "0eCVgqy70nbS"
      },
      "outputs": [],
      "source": [
        "import cv2\n",
        "import glob\n",
        "import matplotlib.pyplot as plt\n",
        "\n",
        "import tensorflow as tf\n",
        "from tensorflow import keras\n",
        "\n",
        "import numpy as np\n",
        "import matplotlib.pyplot as plt\n"
      ]
    },
    {
      "cell_type": "code",
      "source": [
        "mnist = keras.datasets.mnist\n",
        "\n",
        "(x_train, y_train), (x_test, y_test) = mnist.load_data()"
      ],
      "metadata": {
        "id": "XO-WQfhC0Vje"
      },
      "execution_count": 554,
      "outputs": []
    },
    {
      "cell_type": "code",
      "source": [
        "clas_names = [\"0\", \"1\", \"2\", \"3\", \"4\",\n",
        "              \"5\", \"6\", \"7\", \"8\", \"9\"]"
      ],
      "metadata": {
        "id": "WPYNCUfM4Zy2"
      },
      "execution_count": 555,
      "outputs": []
    },
    {
      "cell_type": "code",
      "execution_count": 556,
      "metadata": {
        "id": "MXPfdtDtSCeN"
      },
      "outputs": [],
      "source": [
        "x_train = x_train / 255.\n",
        "x_test = x_test / 255."
      ]
    },
    {
      "cell_type": "code",
      "execution_count": 558,
      "metadata": {
        "id": "bRYxW6H-mX1P",
        "colab": {
          "base_uri": "https://localhost:8080/"
        },
        "outputId": "d343984f-b006-4884-ac00-d845a6905a22"
      },
      "outputs": [
        {
          "output_type": "execute_result",
          "data": {
            "text/plain": [
              "(60000, 28, 28)"
            ]
          },
          "metadata": {},
          "execution_count": 558
        }
      ],
      "source": [
        "x_train.shape"
      ]
    },
    {
      "cell_type": "code",
      "execution_count": 557,
      "metadata": {
        "colab": {
          "base_uri": "https://localhost:8080/",
          "height": 589
        },
        "id": "tPkATEqsUUhf",
        "outputId": "a43d8cc6-0f6c-41bf-8be8-4b9597b2f40b"
      },
      "outputs": [
        {
          "output_type": "display_data",
          "data": {
            "text/plain": [
              "<Figure size 720x720 with 25 Axes>"
            ],
            "image/png": "[encoded data removed]"
          },
          "metadata": {}
        }
      ],
      "source": [
        "plt.figure(figsize=(10,10))\n",
        "for i in range(25):\n",
        "    plt.subplot(5,5,i+1)\n",
        "    plt.xticks([])\n",
        "    plt.yticks([])\n",
        "    plt.grid(False)\n",
        "    plt.imshow(x_train[i], cmap=plt.cm.binary)\n",
        "    plt.xlabel([y_train[i]])\n",
        "plt.show()"
      ]
    },
    {
      "cell_type": "code",
      "execution_count": 559,
      "metadata": {
        "id": "q6Rq6_VmB3vv"
      },
      "outputs": [],
      "source": [
        "model = keras.Sequential([\n",
        "    keras.layers.Flatten(input_shape=(28, 28)),\n",
        "    keras.layers.Dense(128, activation='relu'),\n",
        "    keras.layers.Dense(10, activation='softmax')\n",
        "])"
      ]
    },
    {
      "cell_type": "code",
      "execution_count": 560,
      "metadata": {
        "id": "VSkFjJVfB7FN"
      },
      "outputs": [],
      "source": [
        "model.compile(optimizer='adam',\n",
        "              loss='sparse_categorical_crossentropy',\n",
        "              metrics=['accuracy'])"
      ]
    },
    {
      "cell_type": "code",
      "execution_count": 561,
      "metadata": {
        "id": "Z0mqmwC1Sl0i",
        "colab": {
          "base_uri": "https://localhost:8080/"
        },
        "outputId": "86b3fea5-46b6-477e-f758-b47d922ba5ae"
      },
      "outputs": [
        {
          "output_type": "stream",
          "name": "stdout",
          "text": [
            "Epoch 1/10\n",
            "1875/1875 [==============================] - 7s 4ms/step - loss: 0.2627 - accuracy: 0.9256 - val_loss: 0.1396 - val_accuracy: 0.9579\n",
            "Epoch 2/10\n",
            "1875/1875 [==============================] - 6s 3ms/step - loss: 0.1173 - accuracy: 0.9658 - val_loss: 0.1017 - val_accuracy: 0.9693\n",
            "Epoch 3/10\n",
            "1875/1875 [==============================] - 6s 3ms/step - loss: 0.0792 - accuracy: 0.9762 - val_loss: 0.0834 - val_accuracy: 0.9734\n",
            "Epoch 4/10\n",
            "1875/1875 [==============================] - 7s 4ms/step - loss: 0.0593 - accuracy: 0.9819 - val_loss: 0.0752 - val_accuracy: 0.9765\n",
            "Epoch 5/10\n",
            "1875/1875 [==============================] - 6s 3ms/step - loss: 0.0457 - accuracy: 0.9863 - val_loss: 0.0736 - val_accuracy: 0.9776\n",
            "Epoch 6/10\n",
            "1875/1875 [==============================] - 6s 3ms/step - loss: 0.0353 - accuracy: 0.9888 - val_loss: 0.0791 - val_accuracy: 0.9755\n",
            "Epoch 7/10\n",
            "1875/1875 [==============================] - 6s 3ms/step - loss: 0.0273 - accuracy: 0.9914 - val_loss: 0.0744 - val_accuracy: 0.9780\n",
            "Epoch 8/10\n",
            "1875/1875 [==============================] - 7s 4ms/step - loss: 0.0235 - accuracy: 0.9925 - val_loss: 0.0639 - val_accuracy: 0.9805\n",
            "Epoch 9/10\n",
            "1875/1875 [==============================] - 7s 4ms/step - loss: 0.0180 - accuracy: 0.9943 - val_loss: 0.0886 - val_accuracy: 0.9754\n",
            "Epoch 10/10\n",
            "1875/1875 [==============================] - 7s 3ms/step - loss: 0.0150 - accuracy: 0.9952 - val_loss: 0.0835 - val_accuracy: 0.9776\n"
          ]
        }
      ],
      "source": [
        "history = model.fit(x_train, y_train, epochs=10, validation_data=(x_test, y_test))"
      ]
    },
    {
      "cell_type": "code",
      "source": [
        "plt.plot(history.history['accuracy'], label='accuracy')\n",
        "plt.plot(history.history['val_accuracy'], label = 'val_accuracy')\n",
        "plt.xlabel('Epoch')\n",
        "plt.ylabel('Accuracy')\n",
        "plt.ylim([0.5, 1.2])\n",
        "plt.legend(loc='lower right')\n",
        "\n",
        "test_loss, test_acc = model.evaluate(x_test,  y_test, verbose=2)"
      ],
      "metadata": {
        "colab": {
          "base_uri": "https://localhost:8080/",
          "height": 300
        },
        "id": "EVPpneTc3cAu",
        "outputId": "c2446542-953f-4334-eed1-88c1a78334fc"
      },
      "execution_count": 562,
      "outputs": [
        {
          "output_type": "stream",
          "name": "stdout",
          "text": [
            "313/313 - 1s - loss: 0.0835 - accuracy: 0.9776 - 541ms/epoch - 2ms/step\n"
          ]
        },
        {
          "output_type": "display_data",
          "data": {
            "text/plain": [
              "<Figure size 432x288 with 1 Axes>"
            ],
            "image/png": "[encoded data removed]"
          },
          "metadata": {
            "needs_background": "light"
          }
        }
      ]
    },
    {
      "cell_type": "code",
      "execution_count": 564,
      "metadata": {
        "colab": {
          "base_uri": "https://localhost:8080/"
        },
        "id": "LhXSkwi0S81a",
        "outputId": "f0a27c91-712e-4717-a6eb-fe71e194cb60"
      },
      "outputs": [
        {
          "output_type": "stream",
          "name": "stdout",
          "text": [
            "313/313 - 0s - loss: 0.0835 - accuracy: 0.9776 - 498ms/epoch - 2ms/step\n",
            "\n",
            "Test accuracy: 0.9775999784469604\n"
          ]
        }
      ],
      "source": [
        "test_loss, test_acc = model.evaluate(x_test,  y_test, verbose=2)\n",
        "\n",
        "print('\\nTest accuracy:', test_acc)"
      ]
    },
    {
      "cell_type": "code",
      "execution_count": 565,
      "metadata": {
        "colab": {
          "base_uri": "https://localhost:8080/"
        },
        "id": "4jDRynfZTM0g",
        "outputId": "b209bdf5-7ccc-4f95-8028-a3ccece41682"
      },
      "outputs": [
        {
          "output_type": "stream",
          "name": "stdout",
          "text": [
            "313/313 [==============================] - 1s 2ms/step\n"
          ]
        }
      ],
      "source": [
        "predictions = model.predict(x_test)"
      ]
    },
    {
      "cell_type": "markdown",
      "metadata": {
        "id": "5IX7_HsWgJxI"
      },
      "source": [
        "# Prediccion 1\n"
      ]
    },
    {
      "cell_type": "code",
      "execution_count": 566,
      "metadata": {
        "colab": {
          "base_uri": "https://localhost:8080/"
        },
        "id": "co21accfTUHK",
        "outputId": "dbd8c984-23b1-4979-d632-38a701ce24b4"
      },
      "outputs": [
        {
          "output_type": "execute_result",
          "data": {
            "text/plain": [
              "array([2.5782560e-14, 9.9999017e-01, 8.2785417e-10, 1.3334965e-09,\n",
              "       2.2633452e-07, 1.1500229e-11, 2.9955424e-12, 6.8927557e-06,\n",
              "       2.6532664e-06, 1.6024033e-10], dtype=float32)"
            ]
          },
          "metadata": {},
          "execution_count": 566
        }
      ],
      "source": [
        "predictions[5]"
      ]
    },
    {
      "cell_type": "code",
      "execution_count": 567,
      "metadata": {
        "colab": {
          "base_uri": "https://localhost:8080/"
        },
        "id": "X8l9dIYATcQJ",
        "outputId": "56f57f8e-d22c-4f17-d0e9-9b11fa73487a"
      },
      "outputs": [
        {
          "output_type": "execute_result",
          "data": {
            "text/plain": [
              "1"
            ]
          },
          "metadata": {},
          "execution_count": 567
        }
      ],
      "source": [
        "np.argmax(predictions[5])"
      ]
    },
    {
      "cell_type": "code",
      "execution_count": 568,
      "metadata": {
        "colab": {
          "base_uri": "https://localhost:8080/"
        },
        "id": "vXwSVt2STnGY",
        "outputId": "993933bd-8bd8-452a-a2f9-e31b8b9e6f5c"
      },
      "outputs": [
        {
          "output_type": "execute_result",
          "data": {
            "text/plain": [
              "1"
            ]
          },
          "metadata": {},
          "execution_count": 568
        }
      ],
      "source": [
        "y_test[5]"
      ]
    },
    {
      "cell_type": "markdown",
      "metadata": {
        "id": "cRtpZ4YegSdr"
      },
      "source": [
        "# Prediccion 2"
      ]
    },
    {
      "cell_type": "code",
      "execution_count": 569,
      "metadata": {
        "colab": {
          "base_uri": "https://localhost:8080/"
        },
        "id": "i17bE6chgWer",
        "outputId": "c406f954-81ba-4795-d3e4-145074d3ee5b"
      },
      "outputs": [
        {
          "output_type": "execute_result",
          "data": {
            "text/plain": [
              "array([9.9990731e-01, 9.3657856e-15, 9.2599941e-05, 1.0644716e-10,\n",
              "       1.0174164e-18, 1.0769526e-08, 3.8913464e-09, 1.4561054e-08,\n",
              "       1.7396895e-10, 1.1102256e-08], dtype=float32)"
            ]
          },
          "metadata": {},
          "execution_count": 569
        }
      ],
      "source": [
        "predictions[10]"
      ]
    },
    {
      "cell_type": "code",
      "execution_count": 570,
      "metadata": {
        "colab": {
          "base_uri": "https://localhost:8080/"
        },
        "id": "M7XQqyH0gYyQ",
        "outputId": "969576d7-bd54-4ac1-932a-d808c508c2e2"
      },
      "outputs": [
        {
          "output_type": "execute_result",
          "data": {
            "text/plain": [
              "0"
            ]
          },
          "metadata": {},
          "execution_count": 570
        }
      ],
      "source": [
        "np.argmax(predictions[10])"
      ]
    },
    {
      "cell_type": "code",
      "execution_count": 571,
      "metadata": {
        "colab": {
          "base_uri": "https://localhost:8080/"
        },
        "id": "tuPKojATgbXn",
        "outputId": "0d3177e5-40f7-4dfb-b067-116f06f5a674"
      },
      "outputs": [
        {
          "output_type": "execute_result",
          "data": {
            "text/plain": [
              "0"
            ]
          },
          "metadata": {},
          "execution_count": 571
        }
      ],
      "source": [
        "y_test[10]"
      ]
    },
    {
      "cell_type": "markdown",
      "metadata": {
        "id": "ENYg8tPhggs1"
      },
      "source": [
        "# Prediccion 3"
      ]
    },
    {
      "cell_type": "code",
      "execution_count": 574,
      "metadata": {
        "colab": {
          "base_uri": "https://localhost:8080/"
        },
        "id": "5I22SwozgtSN",
        "outputId": "5e1afe86-e931-4074-ea6b-258adb2a3757"
      },
      "outputs": [
        {
          "output_type": "execute_result",
          "data": {
            "text/plain": [
              "array([2.6388258e-07, 7.1857958e-10, 4.6620148e-09, 3.3379702e-06,\n",
              "       2.2001885e-10, 6.0431215e-05, 9.9993581e-01, 2.0864616e-13,\n",
              "       1.4226276e-07, 7.5603301e-09], dtype=float32)"
            ]
          },
          "metadata": {},
          "execution_count": 574
        }
      ],
      "source": [
        "predictions[50]"
      ]
    },
    {
      "cell_type": "code",
      "execution_count": 575,
      "metadata": {
        "colab": {
          "base_uri": "https://localhost:8080/"
        },
        "id": "stxaQgMCgzFo",
        "outputId": "1085f4d4-3665-435e-d004-5c94338165f8"
      },
      "outputs": [
        {
          "output_type": "execute_result",
          "data": {
            "text/plain": [
              "6"
            ]
          },
          "metadata": {},
          "execution_count": 575
        }
      ],
      "source": [
        "np.argmax(predictions[50])"
      ]
    },
    {
      "cell_type": "code",
      "execution_count": 576,
      "metadata": {
        "colab": {
          "base_uri": "https://localhost:8080/"
        },
        "id": "-lKKPsX4g04I",
        "outputId": "95ccd79b-bafb-4aa0-d314-6f74608d532a"
      },
      "outputs": [
        {
          "output_type": "execute_result",
          "data": {
            "text/plain": [
              "6"
            ]
          },
          "metadata": {},
          "execution_count": 576
        }
      ],
      "source": [
        "y_test[50]"
      ]
    },
    {
      "cell_type": "markdown",
      "metadata": {
        "id": "kluasyyTg8lY"
      },
      "source": [
        "# Modelo de entrenado a una sola imagen\n"
      ]
    },
    {
      "cell_type": "code",
      "execution_count": 577,
      "metadata": {
        "colab": {
          "base_uri": "https://localhost:8080/"
        },
        "id": "WylcN22Gb-1w",
        "outputId": "61ea67f5-d297-4dd4-c82d-14052c74814c"
      },
      "outputs": [
        {
          "output_type": "stream",
          "name": "stdout",
          "text": [
            "(28, 28)\n"
          ]
        }
      ],
      "source": [
        "img = x_test[1]\n",
        "\n",
        "print(img.shape)"
      ]
    },
    {
      "cell_type": "code",
      "execution_count": 579,
      "metadata": {
        "colab": {
          "base_uri": "https://localhost:8080/"
        },
        "id": "p8PpyMZ4cCUC",
        "outputId": "b3981b76-a7f6-45ea-daad-9699b7d3a906"
      },
      "outputs": [
        {
          "output_type": "stream",
          "name": "stdout",
          "text": [
            "(1, 1, 28, 28)\n"
          ]
        }
      ],
      "source": [
        "img = (np.expand_dims(img,0))\n",
        "\n",
        "print(img.shape)"
      ]
    },
    {
      "cell_type": "code",
      "execution_count": 580,
      "metadata": {
        "colab": {
          "base_uri": "https://localhost:8080/"
        },
        "id": "_75NKM_XcHTS",
        "outputId": "9d63ce47-9f44-48d8-df9f-c64554bf072d"
      },
      "outputs": [
        {
          "output_type": "stream",
          "name": "stdout",
          "text": [
            "1/1 [==============================] - 0s 59ms/step\n",
            "[[2.0092396e-14 4.8524984e-09 1.0000000e+00 2.2021037e-08 1.6043403e-24\n",
            "  1.7752969e-10 9.5095095e-12 1.3081403e-18 8.5456566e-09 7.5904264e-19]]\n"
          ]
        }
      ],
      "source": [
        "predictions_single = model.predict(img)\n",
        "\n",
        "print(predictions_single)"
      ]
    },
    {
      "cell_type": "code",
      "execution_count": 581,
      "metadata": {
        "colab": {
          "base_uri": "https://localhost:8080/",
          "height": 267
        },
        "id": "EG2J5WmbcLd0",
        "outputId": "f041a926-f6ba-4889-b287-1db710ad748f"
      },
      "outputs": [
        {
          "output_type": "display_data",
          "data": {
            "text/plain": [
              "<Figure size 432x288 with 1 Axes>"
            ],
            "image/png": "[encoded data removed]"
          },
          "metadata": {
            "needs_background": "light"
          }
        }
      ],
      "source": [
        "plot_value_array(1, predictions_single[0], y_test)\n",
        "_ = plt.xticks(range(10), class_names, rotation=45)"
      ]
    },
    {
      "cell_type": "code",
      "execution_count": 582,
      "metadata": {
        "colab": {
          "base_uri": "https://localhost:8080/"
        },
        "id": "0KSFKS1icRoP",
        "outputId": "7d1431f3-ab05-4154-99cc-b314c6201172"
      },
      "outputs": [
        {
          "output_type": "execute_result",
          "data": {
            "text/plain": [
              "2"
            ]
          },
          "metadata": {},
          "execution_count": 582
        }
      ],
      "source": [
        "np.argmax(predictions_single[0])"
      ]
    }
  ],
  "metadata": {
    "colab": {
      "collapsed_sections": [],
      "provenance": []
    },
    "kernelspec": {
      "display_name": "Python 3",
      "name": "python3"
    },
    "language_info": {
      "name": "python"
    }
  },
  "nbformat": 4,
  "nbformat_minor": 0
}