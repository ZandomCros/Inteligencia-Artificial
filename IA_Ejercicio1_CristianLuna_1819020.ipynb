{
  "nbformat": 4,
  "nbformat_minor": 0,
  "metadata": {
    "colab": {
      "provenance": [],
      "collapsed_sections": [],
      "include_colab_link": true
    },
    "kernelspec": {
      "name": "python3",
      "display_name": "Python 3"
    },
    "language_info": {
      "name": "python"
    }
  },
  "cells": [
    {
      "cell_type": "markdown",
      "metadata": {
        "id": "view-in-github",
        "colab_type": "text"
      },
      "source": [
        "<a href=\"https://colab.research.google.com/github/ZandomCros/Inteligencia-Artificial/blob/main/IA_Ejercicio1_CristianLuna_1819020.ipynb\" target=\"_parent\"><img src=\"https://colab.research.google.com/assets/colab-badge.svg\" alt=\"Open In Colab\"/></a>"
      ]
    },
    {
      "cell_type": "code",
      "source": [
        "P = input(\"Cuál es tu nombre: \")\n",
        "if P != \"Ana\" and P != \"Juan\" and P != \"Pedro\":\n",
        "  print(\"Hola\", P, \"buenoa días\")"
      ],
      "metadata": {
        "colab": {
          "base_uri": "https://localhost:8080/"
        },
        "id": "5ygYNVs0LsDk",
        "outputId": "e7969741-63e1-4c19-816a-7a331245a311"
      },
      "execution_count": null,
      "outputs": [
        {
          "name": "stdout",
          "output_type": "stream",
          "text": [
            "Cuál es tu nombre: Ana\n"
          ]
        }
      ]
    },
    {
      "cell_type": "code",
      "source": [
        "Num=[0,1,2,3,4,5,6,7,8,9,10]\n",
        "def cambio (lista):\n",
        "  lista.reverse()\n",
        "  for x in range(len(lista)):\n",
        "    print(lista[x])\n",
        "  return lista[0]\n",
        "fin = cambio(Num) \n",
        "print(fin)"
      ],
      "metadata": {
        "colab": {
          "base_uri": "https://localhost:8080/"
        },
        "id": "zdznAVPjNBEz",
        "outputId": "b84a29f0-6e26-4ce8-bf1e-33ab92f6c388"
      },
      "execution_count": null,
      "outputs": [
        {
          "output_type": "stream",
          "name": "stdout",
          "text": [
            "10\n",
            "9\n",
            "8\n",
            "7\n",
            "6\n",
            "5\n",
            "4\n",
            "3\n",
            "2\n",
            "1\n",
            "0\n",
            "10\n"
          ]
        }
      ]
    },
    {
      "cell_type": "code",
      "source": [
        "print(\"***********\")\n",
        "for x in [\"Hola\", \"a\", \"todos\", \"esto\", \"es\", \"un\", \"marco\"]:\n",
        "  print(\"* \", x, \" *\")\n",
        "print(\"***********\")"
      ],
      "metadata": {
        "colab": {
          "base_uri": "https://localhost:8080/"
        },
        "id": "jayzN1DkUx8k",
        "outputId": "afce5d33-8d83-4946-9785-7584d3aa0ff1"
      },
      "execution_count": null,
      "outputs": [
        {
          "output_type": "stream",
          "name": "stdout",
          "text": [
            "***********\n",
            "*  Hola  *\n",
            "*  a  *\n",
            "*  todos  *\n",
            "*  esto  *\n",
            "*  es  *\n",
            "*  un  *\n",
            "*  marco  *\n",
            "***********\n"
          ]
        }
      ]
    }
  ]
}